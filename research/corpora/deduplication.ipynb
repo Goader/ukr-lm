{
 "cells": [
  {
   "cell_type": "markdown",
   "metadata": {},
   "source": [
    "# Deduplication based on source info"
   ]
  },
  {
   "cell_type": "markdown",
   "metadata": {},
   "source": [
    "## HPLT 2.0"
   ]
  },
  {
   "cell_type": "code",
   "execution_count": 3,
   "metadata": {},
   "outputs": [
    {
     "name": "stdout",
     "output_type": "stream",
     "text": [
      "https://hoshcha-rada.gov.ua/\t2022-03-01T08:14:43Z\tПерелік укриттів на території Гощанської територіа\n",
      "\n"
     ]
    }
   ],
   "source": [
    "with open('/media/storage/masters/corpora-sources/0000_hplt_source_info.txt', 'r') as f:\n",
    "    for line in f:\n",
    "        print(line)\n",
    "        break"
   ]
  },
  {
   "cell_type": "code",
   "execution_count": 6,
   "metadata": {},
   "outputs": [
    {
     "name": "stdout",
     "output_type": "stream",
     "text": [
      "https://hoshcha-rada.gov.ua/rishennya-sorok-somoi-sesii-goschanskoi-selischnoi-radi-20-grudnya-2019-roku-18-37-54-28-01-2021/\t2022-03-01T08:15:16Z\tРішення сорок сьомої сесії Гощанської селищної рад\n",
      "https://hoshcha-rada.gov.ua/rishennya-chotirnadcyatoi-sesii-goschanskoi-selischnoi-radi-10-grudnya-2021-roku-15-49-18-17-12-2021/\t2022-03-01T08:15:16Z\tРішення чотирнадцятої сесії Гощанської селищної ра\n",
      "https://vlada.ua/propozytsiyi/propozitsiya-gromadam/\t2022-03-01T08:15:56Z\tЗапрошуємо до співпраці всіх голів новостворених Г\n",
      "https://hoshcha-rada.gov.ua/rishennya-trinadcyatoi-sesii-goschanskoi-selischnoi-radi-5-listopada-2021-roku-11-31-24-11-11-2021/\t2022-03-01T08:16:39Z\tРішення тринадцятої сесії Гощанської селищної ради\n",
      "https://hoshcha-rada.gov.ua/pidtrimka-fermerstva-09-03-59-25-05-2021/\t2022-03-01T08:16:46Z\tПідтримка фермерства~~- Постанова КМУ від 08.02.201\n",
      "https://hoshcha-rada.gov.ua/rishennya-p%E2%80%99yatdesyat-drugoi-sesii-goschanskoi-selischnoi-radi-09-chervnya-2020-roku-18-43-05-28-01-2021/\t2022-03-01T08:17:21Z\tРішення п’ятдесят другої сесії Гощанської селищної\n",
      "https://hoshcha-rada.gov.ua/pidtrimka-sadivnictva-ta-vinogradarstva-09-00-20-25-05-2021/\t2022-03-01T08:17:23Z\tПідтримка тваринництва~~Постанова КМУ від 08.02.201\n",
      "https://hoshcha-rada.gov.ua/rishennya-shostoi-sesii-goschanskoi-selischnoi-radi-2020-roku-10-40-23-25-05-2021/\t2022-03-01T08:17:48Z\tРішення шостої сесії Гощанської селищної ради 8 кв\n",
      "https://hoshcha-rada.gov.ua/rishennya-p%E2%80%99yatdesyatoi-sesii-goschanskoi-selischnoi-radi-03-kvitnya-2020-roku-18-41-20-28-01-2021/\t2022-03-01T08:18:39Z\tпоіменне голосування депутатів та селищного голови\n",
      "https://hoshcha-rada.gov.ua/ogoloshennya-konkurs-na-zamischennya-vakantnih-posad-12-57-35-15-04-2021/\t2022-03-01T08:18:46Z\tОГОЛОШЕННЯ про проведення конкурсу~~Виконавчий комі\n",
      "https://creativecommons.org/licenses/by/4.0/deed.uk\t2022-03-01T08:19:13Z\tКороткий Виклад Ліцензії Creative Commons~~Зазначен\n",
      "28\n"
     ]
    }
   ],
   "source": [
    "unique_timestamps = set()\n",
    "i = 0\n",
    "\n",
    "with open('/media/storage/masters/corpora-sources/0000_hplt_source_info.txt', 'r') as f:\n",
    "    for line in f:\n",
    "        timestamp = line.split('\\t')[1]\n",
    "        if timestamp in unique_timestamps:\n",
    "            print(line.strip())\n",
    "            i += 1\n",
    "        unique_timestamps.add(timestamp)\n",
    "\n",
    "        if i > 10:\n",
    "            break\n",
    "\n",
    "print(len(unique_timestamps))\n"
   ]
  },
  {
   "cell_type": "code",
   "execution_count": 8,
   "metadata": {},
   "outputs": [
    {
     "name": "stdout",
     "output_type": "stream",
     "text": [
      "https://bykvu.com/ua/\t2022-06-29T18:34:33Z\t7cc1~~Під час масштабного обміну військовополоненим\n",
      "https://bykvu.com/ua/\t2022-02-28T23:01:01Z\t7c54~~24 лютого ворог підступно напав на Україну. У\n",
      "https://rda.org.ua/\t2022-04-07T02:33:32Z\tЗдивуйте відвідувачів елегантністю сайту і унікаль\n",
      "https://www.president.gov.ua/\t2022-04-07T03:38:27Z\t00006000~~5 квітня 2022 року - 20:06~~7 квітня 2022\n",
      "https://www.president.gov.ua/\t2021-07-01T04:48:52Z\t25dbd~~4 червня 2021 року - 20:20~~28 червня 2021 ро\n",
      "https://bykvu.com/ua/\t2021-07-03T02:38:01Z\t7c3a~~Невизнаний президент Білорусі Олександр Лукаш\n",
      "https://armyinform.com.ua/wp-content/themes/font/fontello.svg?52478187\t2022-02-24T11:41:59Z\tfddc~~Львівський обласний госпіталь ветеранів війн\n",
      "https://www.president.gov.ua/\t2022-03-13T21:42:54Z\t25f53~~13 березня 2022 року - 01:05~~13 березня 2022\n",
      "https://decentralization.gov.ua/news/8243\t2022-02-28T16:27:13Z\t1cce~~Завершити реформу децентралізації – серед пер\n",
      "https://bykvu.com/ua/\t2022-04-04T08:28:09Z\t7c55~~Після звільнення Київської області від російс\n",
      "https://www.president.gov.ua/\t2022-02-15T18:22:40Z\t25b84~~15 лютого 2022 року - 16:46~~Глава держави по\n",
      "36925\n"
     ]
    }
   ],
   "source": [
    "unique_urls = set()\n",
    "i = 0\n",
    "\n",
    "with open('/media/storage/masters/corpora-sources/0000_hplt_source_info.txt', 'r') as f:\n",
    "    for line in f:\n",
    "        url = line.split('\\t')[0]\n",
    "        if url in unique_urls:\n",
    "            print(line.strip())\n",
    "            i += 1\n",
    "        unique_urls.add(url)\n",
    "\n",
    "        if i > 10:\n",
    "            break\n",
    "\n",
    "print(len(unique_urls))\n"
   ]
  },
  {
   "cell_type": "code",
   "execution_count": null,
   "metadata": {},
   "outputs": [],
   "source": [
    "del unique_urls\n",
    "del unique_timestamps"
   ]
  },
  {
   "cell_type": "code",
   "execution_count": 1,
   "metadata": {},
   "outputs": [
    {
     "name": "stdout",
     "output_type": "stream",
     "text": [
      "Unique combined: 47395785\n",
      "Duplicates 2\n",
      "('https://dostup.pravda.com.ua/request/dieputati_oblasnoyi_radi', '2022-01-29T03:45:36Z')\n",
      "  > Депутати обласної ради~~-~~Від: Denis~~До: Дніпропетр\n",
      "  > Депутати обласної ради~~-~~Від: Denis~~До: Дніпропетр\n",
      "\n",
      "('https://dut.edu.ua/ua/news-1-577-9949-z-dnem-narodzhennya-charivnu-olenu-volodimirivnu-vinogradovu-profesora-zaviduyuchu-kafedroyu%C3%82%C2%A0marketingu_navchalno-naukoviy-institut-menedzhmentu-ta-pidpriemnictva-navchalno-naukovi-instituti', '2022-02-26T12:53:59Z')\n",
      "  > 3d77~~Шановні абітурієнти!~~У Вас є останній шанс га\n",
      "  > 3d77~~Шановні абітурієнти!~~У Вас є останній шанс га\n",
      "\n"
     ]
    }
   ],
   "source": [
    "from collections import defaultdict\n",
    "\n",
    "\n",
    "unique_combined = set()\n",
    "duplicates = set()\n",
    "i = 0\n",
    "\n",
    "with open('/media/storage/masters/corpora-sources/0000_hplt_source_info.txt', 'r') as f:\n",
    "    for line in f:\n",
    "        url = line.split('\\t')[0]\n",
    "        timestamp = line.split('\\t')[1]\n",
    "        text = line.split('\\t', 2)[-1]\n",
    "        combined = (url, timestamp)\n",
    "        if combined in unique_combined:\n",
    "            duplicates.add(combined)\n",
    "            i += 1\n",
    "        unique_combined.add(combined)\n",
    "\n",
    "        if i > 20:\n",
    "            print('WARNING: more than 20 documents')\n",
    "            break\n",
    "\n",
    "print('Unique combined:', len(unique_combined))\n",
    "print('Duplicates:', len(duplicates))\n",
    "del unique_combined\n",
    "\n",
    "combined2text = defaultdict(list)\n",
    "with open('/media/storage/masters/corpora-sources/0000_hplt_source_info.txt', 'r') as f:\n",
    "    for line in f:\n",
    "        url = line.split('\\t')[0]\n",
    "        timestamp = line.split('\\t')[1]\n",
    "        text = line.split('\\t', 2)[-1]\n",
    "        combined = (url, timestamp)\n",
    "\n",
    "        if combined in duplicates:\n",
    "            combined2text[combined].append(text)\n",
    "\n",
    "for combined, texts in combined2text.items():\n",
    "    print(combined)\n",
    "    for text in texts:\n",
    "        print(f'  > {text.strip()}')\n",
    "    print()\n"
   ]
  },
  {
   "cell_type": "markdown",
   "metadata": {},
   "source": [
    "## FineWeb2"
   ]
  },
  {
   "cell_type": "code",
   "execution_count": 14,
   "metadata": {},
   "outputs": [
    {
     "name": "stdout",
     "output_type": "stream",
     "text": [
      "http://semenovka.at.ua/news/2018-08-31\t2024-02-25T12:07:15Z\t30.08.2018 року о 21 год. 10 хв. на пункт зв’язку\n",
      "https://provikna.lviv.ua/markizy/vertykalna-markiza.html\t2024-03-03T08:44:44Z\tВертикальні маркізи - це тип тентової конструкції,\n",
      "https://fineline.ua/yaki-preparaty-dlya-biorevitalizatsiyi-vykorystovuyutsya/\t2024-03-03T12:55:40Z\tУ процедурі біоревіталізації використовуються різн\n",
      "https://air-conditioner.ua/uk/konditsioner-cooper-hunter-ch-s09xp7.html\t2024-02-28T09:16:31Z\tНастінна спліт-система Cooper&Hunter CH-S09XP7 вол\n",
      "https://smartcafe.com.ua/uk/infocentr/10-pravil-upravlinskogo-obliku-v-restorani\t2024-02-28T07:16:25Z\tУ веденні ресторанного бізнесу деталі вирішують вс\n",
      "https://infoindustria.com.ua/bayer-vidkriva%D1%94-novu-laboratoriyu-vivchennya-tobrfv/\t2024-02-29T06:13:34Z\t30.05.2023~~Bayer відсвяткував відкриття нової лабо\n",
      "http://vpu27.zp.ua/2018/10/08/zasidannya-ekspertnoyi-grupy/\t2024-02-28T08:47:44Z\t08 жовтня 2018 року на базі ДНЗ «Запорізьке машино\n",
      "https://fineline.ua/presoterapiya-odna-z-krashhyh-aparatnyh-poslug/\t2024-03-03T12:05:52Z\tПресотерапія є однією з найкращих апаратних послуг\n",
      "47552554\n"
     ]
    }
   ],
   "source": [
    "unique_combined = set()\n",
    "i = 0\n",
    "\n",
    "with open('/media/storage/masters/corpora-sources/0000_fineweb2_source_info.txt', 'r') as f:\n",
    "    for line in f:\n",
    "        combined = (line.split('\\t')[0], line.split('\\t')[1])\n",
    "        if combined in unique_combined:\n",
    "            print(line.strip())\n",
    "            i += 1\n",
    "        unique_combined.add(combined)\n",
    "\n",
    "        if i > 20:\n",
    "            break\n",
    "\n",
    "print(len(unique_combined))"
   ]
  },
  {
   "cell_type": "code",
   "execution_count": null,
   "metadata": {},
   "outputs": [
    {
     "name": "stdout",
     "output_type": "stream",
     "text": [
      "('https://smartcafe.com.ua/uk/infocentr/10-pravil-upravlinskogo-obliku-v-restorani', '2024-02-28T07:16:25Z')\n",
      "  > Яка найпоширеніша проблема серед власників рестора\n",
      "  > У веденні ресторанного бізнесу деталі вирішують вс\n",
      "\n",
      "('http://semenovka.at.ua/news/2018-08-31', '2024-02-25T12:07:15Z')\n",
      "  > Семенівською міською радою, за плідної співпраці з\n",
      "  > 30.08.2018 року о 21 год. 10 хв. на пункт зв’язку\n",
      "\n",
      "('https://provikna.lviv.ua/markizy/vertykalna-markiza.html', '2024-03-03T08:44:44Z')\n",
      "  > Вертикальні маркізи - це тип тентової конструкції,\n",
      "  > Вертикальні маркізи - це тип тентової конструкції,\n",
      "\n",
      "('https://fineline.ua/yaki-preparaty-dlya-biorevitalizatsiyi-vykorystovuyutsya/', '2024-03-03T12:55:40Z')\n",
      "  > Біоревіталізація – це сучасна ін’єкційна процедура\n",
      "  > У процедурі біоревіталізації використовуються різн\n",
      "\n",
      "('https://fineline.ua/presoterapiya-odna-z-krashhyh-aparatnyh-poslug/', '2024-03-03T12:05:52Z')\n",
      "  > Пресотерапія є однією з найкращих апаратних послуг\n",
      "  > Пресотерапія є однією з найкращих апаратних послуг\n",
      "\n",
      "('https://air-conditioner.ua/uk/konditsioner-cooper-hunter-ch-s09xp7.html', '2024-02-28T09:16:31Z')\n",
      "  > Настінна спліт-система Cooper&Hunter CH-S09XP7 вол\n",
      "  > Настінна спліт-система Cooper&Hunter CH-S09XP7 вол\n",
      "\n",
      "('http://vpu27.zp.ua/2018/10/08/zasidannya-ekspertnoyi-grupy/', '2024-02-28T08:47:44Z')\n",
      "  > 08 жовтня 2018 року на базі ДНЗ «Запорізьке машино\n",
      "  > 08 жовтня 2018 року на базі ДНЗ «Запорізьке машино\n",
      "\n",
      "('https://infoindustria.com.ua/bayer-vidkriva%D1%94-novu-laboratoriyu-vivchennya-tobrfv/', '2024-02-29T06:13:34Z')\n",
      "  > 30.05.2023~~Bayer відсвяткував відкриття нової лабо\n",
      "  > 30.05.2023~~Bayer відсвяткував відкриття нової лабо\n",
      "\n",
      "47552554\n"
     ]
    }
   ],
   "source": [
    "from collections import defaultdict\n",
    "\n",
    "\n",
    "unique_combined = set()\n",
    "duplicates = set()\n",
    "i = 0\n",
    "\n",
    "with open('/media/storage/masters/corpora-sources/0000_fineweb2_source_info.txt', 'r') as f:\n",
    "    for line in f:\n",
    "        url = line.split('\\t')[0]\n",
    "        timestamp = line.split('\\t')[1]\n",
    "        text = line.split('\\t', 2)[-1]\n",
    "        combined = (url, timestamp)\n",
    "        if combined in unique_combined:\n",
    "            duplicates.add(combined)\n",
    "            i += 1\n",
    "        unique_combined.add(combined)\n",
    "\n",
    "        if i > 20:\n",
    "            print('WARNING: more than 20 documents')\n",
    "            break\n",
    "\n",
    "print('Unique combined:', len(unique_combined))\n",
    "print('Duplicates:', len(duplicates))\n",
    "del unique_combined\n",
    "\n",
    "combined2text = defaultdict(list)\n",
    "with open('/media/storage/masters/corpora-sources/0000_fineweb2_source_info.txt', 'r') as f:\n",
    "    for line in f:\n",
    "        url = line.split('\\t')[0]\n",
    "        timestamp = line.split('\\t')[1]\n",
    "        text = line.split('\\t', 2)[-1]\n",
    "        combined = (url, timestamp)\n",
    "\n",
    "        if combined in duplicates:\n",
    "            combined2text[combined].append(text)\n",
    "\n",
    "for combined, texts in combined2text.items():\n",
    "    print(combined)\n",
    "    for text in texts:\n",
    "        print(f'  > {text.strip()}')\n",
    "    print()\n"
   ]
  },
  {
   "cell_type": "markdown",
   "metadata": {},
   "source": [
    "## Cultura-X"
   ]
  },
  {
   "cell_type": "code",
   "execution_count": 22,
   "metadata": {},
   "outputs": [
    {
     "name": "stdout",
     "output_type": "stream",
     "text": [
      "40692422\n",
      "Empty URLs: 4048122, ratio: 9.95%\n"
     ]
    }
   ],
   "source": [
    "unique_combined = set()\n",
    "empty_urls = 0\n",
    "i = 0\n",
    "\n",
    "with open('/media/storage/masters/corpora-sources/0000_culturax_source_info.txt', 'r') as f:\n",
    "    for line in f:\n",
    "        url = line.split('\\t')[0]\n",
    "        timestamp = line.split('\\t')[1]\n",
    "\n",
    "        if not url:\n",
    "            empty_urls += 1\n",
    "            continue\n",
    "        \n",
    "        combined = (url, timestamp)\n",
    "        if combined in unique_combined:\n",
    "            print(line.strip())\n",
    "            i += 1\n",
    "        unique_combined.add(combined)\n",
    "\n",
    "        if i > 20:\n",
    "            break\n",
    "\n",
    "print(len(unique_combined))\n",
    "print(f'Empty URLs: {empty_urls}, ratio: {empty_urls / len(unique_combined):.2%}')"
   ]
  },
  {
   "cell_type": "markdown",
   "metadata": {},
   "source": [
    "# Cross-check"
   ]
  },
  {
   "cell_type": "code",
   "execution_count": 1,
   "metadata": {},
   "outputs": [],
   "source": [
    "import matplotlib.pyplot as plt\n",
    "import seaborn as sns\n",
    "import numpy as np\n",
    "\n",
    "\n",
    "def plot_histogram(data, bins=10, title='Histogram', xlabel='Value', ylabel='Frequency', color='blue', edgecolor='black', alpha=0.7):\n",
    "    \"\"\"\n",
    "    Plots a beautiful histogram using matplotlib and seaborn.\n",
    "    \n",
    "    Parameters:\n",
    "    - data (list, numpy array, or PyTorch tensor): The data to plot.\n",
    "    - bins (int or sequence): Number of bins or specific bin edges.\n",
    "    - title (str): Title of the histogram.\n",
    "    - xlabel (str): Label for the x-axis.\n",
    "    - ylabel (str): Label for the y-axis.\n",
    "    - color (str): Color of the bars.\n",
    "    - edgecolor (str): Color of the edges of the bars.\n",
    "    - alpha (float): Transparency level of the bars (0.0 to 1.0).\n",
    "\n",
    "    Returns:\n",
    "    - None\n",
    "    \"\"\"\n",
    "    # Convert PyTorch tensor to NumPy array if needed\n",
    "    if isinstance(data, list):\n",
    "        data = np.array(data)  # Convert list to NumPy array for uniform handling\n",
    "\n",
    "    # Ensure data is one-dimensional\n",
    "    if data.ndim != 1:\n",
    "        raise ValueError(\"Input data must be one-dimensional.\")\n",
    "\n",
    "    # Calculate statistics\n",
    "    mean = np.mean(data)\n",
    "    std = np.std(data)\n",
    "\n",
    "    # Plot the histogram\n",
    "    plt.figure(figsize=(10, 6))\n",
    "    sns.histplot(data, bins=bins, kde=False, color=color, edgecolor=edgecolor, alpha=alpha)\n",
    "\n",
    "    # Add vertical lines for mean and ±1 std\n",
    "    plt.axvline(mean, color='red', linestyle='--', linewidth=2, label=f'$\\mu: {mean:.3f}$')\n",
    "    plt.axvline(mean - std, color='orange', linestyle=':', linewidth=2, label=f'$\\mu - \\sigma: {mean - std:.3f}$')\n",
    "    plt.axvline(mean + std, color='green', linestyle=':', linewidth=2, label=f'$\\mu + \\sigma: {mean + std:.3f}$')\n",
    "\n",
    "    # Customizing the plot\n",
    "    plt.title(title, fontsize=16, fontweight='bold')\n",
    "    plt.xlabel(xlabel, fontsize=14)\n",
    "    plt.ylabel(ylabel, fontsize=14)\n",
    "    plt.grid(axis='y', linestyle='--', alpha=0.6)\n",
    "    plt.xticks(fontsize=12)\n",
    "    plt.yticks(fontsize=12)\n",
    "\n",
    "    # Add legend\n",
    "    plt.legend(fontsize=12)\n",
    "\n",
    "    # Show the plot\n",
    "    plt.tight_layout()\n",
    "    plt.show()"
   ]
  },
  {
   "cell_type": "markdown",
   "metadata": {},
   "source": [
    "## HPLT 2.0 vs Fineweb2"
   ]
  },
  {
   "cell_type": "code",
   "execution_count": 2,
   "metadata": {},
   "outputs": [
    {
     "name": "stderr",
     "output_type": "stream",
     "text": [
      "duplicates: 47552562it [20:08, 39349.67it/s] \n"
     ]
    },
    {
     "name": "stdout",
     "output_type": "stream",
     "text": [
      "Total Fineweb2 documents: 47,552,562\n",
      "Total HPLT 2.0 documents: 47,395,787\n",
      "Number of duplicates: 5,011,632\n",
      "Duplicate percentage (of HPLT 2.0): 10.57%\n",
      "Duplicate percentage (of Fineweb2): 10.54%\n"
     ]
    }
   ],
   "source": [
    "import tqdm\n",
    "\n",
    "unique_combined = set()\n",
    "\n",
    "fineweb2_docs = 0\n",
    "hplt2_docs = 0\n",
    "duplicates = 0\n",
    "\n",
    "with open('/media/storage/masters/corpora-sources/0000_fineweb2_source_info.txt', 'r') as f:\n",
    "    for line in f:\n",
    "        fineweb2_docs += 1\n",
    "\n",
    "        parts = line.split('\\t', 2)\n",
    "        url = parts[0]\n",
    "        timestamp = parts[1]\n",
    "        combined = (url, timestamp)\n",
    "\n",
    "        # if combined in unique_combined:\n",
    "        #     duplicates.add(combined)\n",
    "        unique_combined.add(combined)\n",
    "\n",
    "\n",
    "duplicates_bar = tqdm.tqdm(desc='duplicates')\n",
    "\n",
    "with open('/media/storage/masters/corpora-sources/0000_hplt_source_info.txt', 'r') as f:\n",
    "    for line in f:\n",
    "        hplt2_docs += 1\n",
    "\n",
    "        parts = line.split('\\t', 2)\n",
    "        url = parts[0]\n",
    "        timestamp = parts[1]\n",
    "        combined = (url, timestamp)\n",
    "\n",
    "        if combined in unique_combined:\n",
    "            duplicates += 1\n",
    "            duplicates_bar.update()\n",
    "\n",
    "print(f\"Total Fineweb2 documents: {fineweb2_docs:,}\")\n",
    "print(f\"Total HPLT 2.0 documents: {hplt2_docs:,}\")\n",
    "print(f\"Number of duplicates: {duplicates:,}\")\n",
    "print(f\"Duplicate percentage (of HPLT 2.0): {(duplicates / hplt2_docs):.2%}\")\n",
    "print(f\"Duplicate percentage (of Fineweb2): {(duplicates / fineweb2_docs):.2%}\")"
   ]
  },
  {
   "cell_type": "markdown",
   "metadata": {},
   "source": [
    "### Comparing texts for duplicates"
   ]
  },
  {
   "cell_type": "code",
   "execution_count": 1,
   "metadata": {},
   "outputs": [],
   "source": [
    "unique_combined = set()\n",
    "\n",
    "fineweb2_docs = 0\n",
    "hplt2_docs = 0\n",
    "duplicates = 0\n",
    "\n",
    "with open('/media/storage/masters/corpora-sources/0000_fineweb2_source_info.txt', 'r') as f:\n",
    "    for line in f:\n",
    "        fineweb2_docs += 1\n",
    "\n",
    "        parts = line.split('\\t', 2)\n",
    "        url = parts[0]\n",
    "        timestamp = parts[1]\n",
    "        combined = (url, timestamp)\n",
    "\n",
    "        # if combined in unique_combined:\n",
    "        #     duplicates.add(combined)\n",
    "        unique_combined.add(combined)\n",
    "\n",
    "with open('/media/storage/masters/corpora-sources/0000_hplt_source_info.txt', 'r') as f, \\\n",
    "     open('/media/storage/masters/corpora-sources/hplt-fineweb-duplicates.txt', 'w') as w:\n",
    "\n",
    "    for line in f:\n",
    "        hplt2_docs += 1\n",
    "\n",
    "        parts = line.split('\\t', 2)\n",
    "        url = parts[0]\n",
    "        timestamp = parts[1]\n",
    "        combined = (url, timestamp)\n",
    "\n",
    "        if combined in unique_combined:\n",
    "            duplicates += 1\n",
    "            w.write(f'{combined[0]}\\t{combined[1]}\\n')\n",
    "\n",
    "del unique_combined"
   ]
  },
  {
   "cell_type": "code",
   "execution_count": 8,
   "metadata": {},
   "outputs": [
    {
     "data": {
      "text/plain": [
       "5011632"
      ]
     },
     "execution_count": 8,
     "metadata": {},
     "output_type": "execute_result"
    }
   ],
   "source": [
    "duplicates = set()\n",
    "with open('/media/storage/masters/corpora-sources/hplt-fineweb-duplicates.txt') as f:\n",
    "    for line in f:\n",
    "        parts = line.split('\\t', 2)\n",
    "        url = parts[0]\n",
    "        timestamp = parts[1].strip()\n",
    "        combined = (url, timestamp)\n",
    "\n",
    "        duplicates.add(combined)\n",
    "    \n",
    "len(duplicates)"
   ]
  },
  {
   "cell_type": "code",
   "execution_count": 10,
   "metadata": {},
   "outputs": [
    {
     "name": "stdout",
     "output_type": "stream",
     "text": [
      "Defaulting to user installation because normal site-packages is not writeable\n",
      "Collecting pylcs\n",
      "  Downloading pylcs-0.1.1.tar.gz (11 kB)\n",
      "  Installing build dependencies ... \u001b[?25ldone\n",
      "\u001b[?25h  Getting requirements to build wheel ... \u001b[?25ldone\n",
      "\u001b[?25h  Installing backend dependencies ... \u001b[?25ldone\n",
      "\u001b[?25h  Preparing metadata (pyproject.toml) ... \u001b[?25ldone\n",
      "\u001b[?25hCollecting pybind11>=2.2\n",
      "  Using cached pybind11-2.13.6-py3-none-any.whl (243 kB)\n",
      "Building wheels for collected packages: pylcs\n",
      "  Building wheel for pylcs (pyproject.toml) ... \u001b[?25ldone\n",
      "\u001b[?25h  Created wheel for pylcs: filename=pylcs-0.1.1-cp310-cp310-linux_x86_64.whl size=1082173 sha256=7ab5479a58681684bf10a777f343b1d6947a107d0a307f03751c34caecf3c3a3\n",
      "  Stored in directory: /home/goader/.cache/pip/wheels/eb/64/e8/c902162e883f432251466566e011016795ea03b95d4350d0ee\n",
      "Successfully built pylcs\n",
      "Installing collected packages: pybind11, pylcs\n",
      "Successfully installed pybind11-2.13.6 pylcs-0.1.1\n"
     ]
    }
   ],
   "source": [
    "!pip install pylcs"
   ]
  },
  {
   "cell_type": "code",
   "execution_count": 17,
   "metadata": {},
   "outputs": [
    {
     "data": {
      "application/vnd.jupyter.widget-view+json": {
       "model_id": "9bc7f6bfc0ea42dabd9f5908b8903428",
       "version_major": 2,
       "version_minor": 0
      },
      "text/plain": [
       "  0%|          | 0/5011632 [00:00<?, ?it/s]"
      ]
     },
     "metadata": {},
     "output_type": "display_data"
    },
    {
     "name": "stderr",
     "output_type": "stream",
     "text": [
      " 21%|██        | 1044694/5011632 [02:32<09:38, 6852.69it/s] \n"
     ]
    },
    {
     "name": "stdout",
     "output_type": "stream",
     "text": [
      "Number of duplicates: 5,011,632\n",
      "Number of exact matches: 4,056,508\n",
      "Ratio of exact matches to duplicates: 80.94%\n"
     ]
    }
   ],
   "source": [
    "import pylcs\n",
    "import tqdm.notebook as tqdm\n",
    "\n",
    "duplicate2text = dict()\n",
    "\n",
    "with open('/media/storage/masters/corpora-sources/0000_fineweb2_source_info.txt', 'r') as f:\n",
    "    for line in f:\n",
    "        parts = line.split('\\t', 2)\n",
    "        url = parts[0]\n",
    "        timestamp = parts[1]\n",
    "        text = parts[2]\n",
    "        combined = (url, timestamp)\n",
    "\n",
    "        if combined in duplicates:\n",
    "            duplicate2text[combined] = text\n",
    "\n",
    "\n",
    "exact_matches = 0\n",
    "similarities = []\n",
    "\n",
    "progress_bar = tqdm.tqdm(total=len(duplicate2text))\n",
    "\n",
    "with open('/media/storage/masters/corpora-sources/0000_hplt_source_info.txt', 'r') as f:\n",
    "    for line in f:\n",
    "        parts = line.split('\\t', 2)\n",
    "        url = parts[0]\n",
    "        timestamp = parts[1]\n",
    "        text = parts[2]\n",
    "        combined = (url, timestamp)\n",
    "\n",
    "        if (other_text := duplicate2text.get(combined)):\n",
    "            progress_bar.update()\n",
    "            similarities.append(pylcs.lcs(text, other_text) / min(len(text), len(other_text)))\n",
    "            if text == other_text:\n",
    "                exact_matches += 1\n",
    "\n",
    "\n",
    "print(f\"Number of duplicates: {len(duplicates):,}\")\n",
    "print(f\"Number of exact matches: {exact_matches:,}\")\n",
    "print(f\"Ratio of exact matches to duplicates: {exact_matches / len(duplicates):.2%}\")"
   ]
  },
  {
   "cell_type": "code",
   "execution_count": 18,
   "metadata": {},
   "outputs": [
    {
     "name": "stderr",
     "output_type": "stream",
     "text": [
      "/home/goader/.local/lib/python3.10/site-packages/seaborn/_oldcore.py:1119: FutureWarning: use_inf_as_na option is deprecated and will be removed in a future version. Convert inf values to NaN before operating instead.\n",
      "  with pd.option_context('mode.use_inf_as_na', True):\n"
     ]
    },
    {
     "data": {
      "image/png": "[encoded data removed]",
      "text/plain": [
       "<Figure size 1000x600 with 1 Axes>"
      ]
     },
     "metadata": {},
     "output_type": "display_data"
    }
   ],
   "source": [
    "plot_histogram(similarities, bins=40, title=\"Distribution of LCS similarity scores between FineWeb2 and HPLT 2.0 duplicates\")"
   ]
  },
  {
   "cell_type": "markdown",
   "metadata": {},
   "source": [
    "## HPLT 2.0 vs CulturaX"
   ]
  },
  {
   "cell_type": "code",
   "execution_count": 3,
   "metadata": {},
   "outputs": [
    {
     "name": "stderr",
     "output_type": "stream",
     "text": [
      "duplicates: 5011632it [10:07, 8243.76it/s]  \n",
      "duplicates: 3748748it [01:09, 56709.50it/s] "
     ]
    },
    {
     "name": "stdout",
     "output_type": "stream",
     "text": [
      "Total CulturaX documents: 44,740,544\n",
      "Total HPLT 2.0 documents: 47,395,787\n",
      "Number of duplicates: 3,748,748\n",
      "Duplicate percentage (of HPLT 2.0): 7.91%\n",
      "Duplicate percentage (of CulturaX): 8.38%\n"
     ]
    }
   ],
   "source": [
    "import tqdm\n",
    "\n",
    "unique_combined = set()\n",
    "\n",
    "culturax_docs = 0\n",
    "hplt2_docs = 0\n",
    "duplicates = 0\n",
    "\n",
    "with open('/media/storage/masters/corpora-sources/0000_culturax_source_info.txt', 'r') as f:\n",
    "    for line in f:\n",
    "        culturax_docs += 1\n",
    "\n",
    "        parts = line.split('\\t', 2)\n",
    "        url = parts[0]\n",
    "        timestamp = parts[1]\n",
    "        combined = (url, timestamp)\n",
    "\n",
    "        # if combined in unique_combined:\n",
    "        #     duplicates.add(combined)\n",
    "        unique_combined.add(combined)\n",
    "\n",
    "\n",
    "duplicates_bar = tqdm.tqdm(desc='duplicates')\n",
    "\n",
    "with open('/media/storage/masters/corpora-sources/0000_hplt_source_info.txt', 'r') as f:\n",
    "    for line in f:\n",
    "        hplt2_docs += 1\n",
    "\n",
    "        parts = line.split('\\t', 2)\n",
    "        url = parts[0]\n",
    "        timestamp = parts[1]\n",
    "        combined = (url, timestamp)\n",
    "\n",
    "        if combined in unique_combined:\n",
    "            duplicates += 1\n",
    "            duplicates_bar.update()\n",
    "\n",
    "print(f\"Total CulturaX documents: {culturax_docs:,}\")\n",
    "print(f\"Total HPLT 2.0 documents: {hplt2_docs:,}\")\n",
    "print(f\"Number of duplicates: {duplicates:,}\")\n",
    "print(f\"Duplicate percentage (of HPLT 2.0): {(duplicates / hplt2_docs):.2%}\")\n",
    "print(f\"Duplicate percentage (of CulturaX): {(duplicates / culturax_docs):.2%}\")"
   ]
  },
  {
   "cell_type": "markdown",
   "metadata": {},
   "source": [
    "### Comparing text for duplicate"
   ]
  },
  {
   "cell_type": "code",
   "execution_count": 1,
   "metadata": {},
   "outputs": [],
   "source": [
    "unique_combined = set()\n",
    "\n",
    "culturax_docs = 0\n",
    "hplt2_docs = 0\n",
    "duplicates = 0\n",
    "\n",
    "with open('/media/storage/masters/corpora-sources/0000_culturax_source_info.txt', 'r') as f:\n",
    "    for line in f:\n",
    "        culturax_docs += 1\n",
    "\n",
    "        parts = line.split('\\t', 2)\n",
    "        url = parts[0]\n",
    "        timestamp = parts[1]\n",
    "        combined = (url, timestamp)\n",
    "\n",
    "        # if combined in unique_combined:\n",
    "        #     duplicates.add(combined)\n",
    "        unique_combined.add(combined)\n",
    "\n",
    "with open('/media/storage/masters/corpora-sources/0000_hplt_source_info.txt', 'r') as f, \\\n",
    "     open('/media/storage/masters/corpora-sources/hplt-culturax-duplicates.txt', 'w') as w:\n",
    "\n",
    "    for line in f:\n",
    "        hplt2_docs += 1\n",
    "\n",
    "        parts = line.split('\\t', 2)\n",
    "        url = parts[0]\n",
    "        timestamp = parts[1]\n",
    "        combined = (url, timestamp)\n",
    "\n",
    "        if combined in unique_combined:\n",
    "            duplicates += 1\n",
    "            w.write(f'{combined[0]}\\t{combined[1]}\\n')\n",
    "\n",
    "del unique_combined"
   ]
  },
  {
   "cell_type": "code",
   "execution_count": 2,
   "metadata": {},
   "outputs": [
    {
     "data": {
      "text/plain": [
       "3748748"
      ]
     },
     "execution_count": 2,
     "metadata": {},
     "output_type": "execute_result"
    }
   ],
   "source": [
    "duplicates = set()\n",
    "with open('/media/storage/masters/corpora-sources/hplt-culturax-duplicates.txt') as f:\n",
    "    for line in f:\n",
    "        parts = line.split('\\t', 2)\n",
    "        url = parts[0]\n",
    "        timestamp = parts[1].strip()\n",
    "        combined = (url, timestamp)\n",
    "\n",
    "        duplicates.add(combined)\n",
    "    \n",
    "len(duplicates)"
   ]
  },
  {
   "cell_type": "code",
   "execution_count": 3,
   "metadata": {},
   "outputs": [
    {
     "data": {
      "application/vnd.jupyter.widget-view+json": {
       "model_id": "775e695005e04900bd6d47b66978c4a6",
       "version_major": 2,
       "version_minor": 0
      },
      "text/plain": [
       "  0%|          | 0/3748748 [00:00<?, ?it/s]"
      ]
     },
     "metadata": {},
     "output_type": "display_data"
    },
    {
     "name": "stdout",
     "output_type": "stream",
     "text": [
      "('http://www.agoda.ua/asia/nepal/chitwan_national_park/royal_park_hotel.html?asq=5VS4rPxIcpCoBEKGzfKvtKPkMFvdcLenT%2FOR%2FJbxoaSPTwRpeibot9yRb3lYWDnm', '2013-05-19T03:07:31Z')\n",
      "  > Призначений як для ділових поїздок, так і для відп\n",
      "\n",
      "  > Royal Park Hotel в Національний парк Читван в Непа\n",
      "\n",
      "\n",
      "('http://www.slideboom.com/presentations/498259/razdel3', '2013-05-19T12:25:37Z')\n",
      "  > Частина ІІI. Графічний редактор PAINT Спецкурс “Ос\n",
      "\n",
      "  > Частина ІІI. Графічний редактор PAINT~~Навчальна пр\n",
      "\n",
      "\n",
      "('http://www.agoda.ua/europe/germany/berlin/st_christopher_s_apartments_berlin.html?asq=S1%2BEK%2BZ0CDAN9fhHeuyZmiaQX%2BAltM3zYjW6uDLIZenu8zKgkUSRx%2FzuNQKFzxtZD2EfrG5JSZdUgNIH3eGjSA%3D%3D', '2013-06-18T23:06:08Z')\n",
      "  > Зручно розташований у Мітте, St. Christopher's Apa\n",
      "\n",
      "  > St. Christopher's Apartments Berlin в Берлін в Нім\n",
      "\n",
      "\n",
      "('http://seoworld.com.ua/category/rozkrutka-sajtu/', '2013-05-22T13:22:33Z')\n",
      "  > Зараз бізнес все частіше розвивається в Інтернеті.\n",
      "\n",
      "  > Розкрутка сайту - Світ українського SEO\tГоловна~~На\n",
      "\n",
      "\n",
      "('http://uk.wikipedia.org/wiki/%D0%9F%D0%B0%D0%B2%D0%BB%D0%B5%D0%BD%D1%96%D1%88%D0%B2%D1%96%D0%BB%D1%96', '2013-05-22T13:17:35Z')\n",
      "  > Павленішвілі~~Павленішвілі (Павленови, груз. ფავლენ\n",
      "\n",
      "  > Павленішвілі — Вікіпедія~~Павленішвілі~~Павленішвілі\n",
      "\n",
      "\n",
      "('http://www.agoda.ua/asia/philippines/bohol/kayla_a_beach_resort.html?asq=Dz0R8zYa1Jj5AJigXu1RceclbL6c7CH33QwZDRmAQxs%2FlswBINOuPDq4evv3zq9amT2HFwGrhr19IT6Jk47V7w%3D%3D', '2013-05-25T12:42:07Z')\n",
      "  > Призначений як для ділових поїздок, так і для відп\n",
      "\n",
      "  > Kayla'a Beach Resort в Бохол в Філіппіни - Найкращ\n",
      "\n",
      "\n",
      "('http://www.agoda.ua/middle_east/united_arab_emirates/abu_dhabi/ramee_rose_hotel_apartments.html?asq=esh6lo5vHXk8i7kRZudF%2FKafzyGzQOoHvdtGu%2BQTQQrsLkdkNDQojIoQxjgzZuiuOxemUV8Q09K9ROxyMbTRWw%3D%3D', '2013-05-24T13:09:36Z')\n",
      "  > Зручно розташований у Абу Дабі, Ramee Rose Hotel A\n",
      "\n",
      "  > Al Falah Street, Near Taha Med Ctr., Абу Дабі, Абу\n",
      "\n",
      "\n",
      "('http://www.agoda.ua/asia/hong_kong/hong_kong/chi_residences_279.html?asq=5VS4rPxIcpCoBEKGzfKvtO5ZppeAiyFLvZDKOcppQiLD1DdrLYwBM%2BRJGTCQv8Vd', '2013-05-24T04:26:50Z')\n",
      "  > Призначений як для ділових поїздок, так і для відп\n",
      "\n",
      "  > Призначений як для ділових поїздок, так і для відп\n",
      "\n",
      "\n",
      "('http://www.agoda.ua/asia/japan/mie/ise_shima_royal_hotel.html', '2013-06-20T07:37:11Z')\n",
      "  > Якщо ви шукаєте готель, що зручно розташований у М\n",
      "\n",
      "  > Ise-Shima Royal Hotel в Мі в Японія - Найкращі зни\n",
      "\n",
      "\n",
      "('http://www.dobovo.com/ua/%D0%BA%D0%B8%D1%97%D0%B2-%D0%BA%D0%B2%D0%B0%D1%80%D1%82%D0%B8%D1%80%D0%B8-%D0%BF%D0%BE%D0%B4%D0%BE%D0%B1%D0%BE%D0%B2%D0%BE/19_55-%D0%B1%D0%B0%D1%81%D1%81%D0%B5%D0%B9%D0%BD%D0%B0%D1%8F-KV1473.html', '2013-05-18T18:05:41Z')\n",
      "  > Знижки~~Нещодавно замовлені~~Відгуки клієнтів~~“ Прив\n",
      "\n",
      "  > 19/55 Бассейная (KV1473), Студіо Квартира в Києві~~\n",
      "\n",
      "\n",
      "('http://www.agoda.ua/europe/germany/berlin/arta_lenz_hotel.html?asq=S1%2BEK%2BZ0CDAN9fhHeuyZmiaQX%2BAltM3zYjW6uDLIZelDoY3ew7r%2FpKFy3ACRFJTUESD9wLOtjqCapiDYQ265lA%3D%3D', '2013-05-24T19:18:15Z')\n",
      "  > Зручно розташований у Вільмерсдорф, Arta Lenz Hote\n",
      "\n",
      "  > Arta Lenz Hotel в Берлін в Німеччина - Найкращі зн\n",
      "\n",
      "\n",
      "('http://www.unp.ua/ua/en/news-en/10-economics/1239', '2013-05-23T14:19:20Z')\n",
      "  > YOUTUBE~~УНП: Кредит МВФ можна отримати до виборів,\n",
      "\n",
      "  > УНП: Кредит МВФ можна отримати до виборів, якщо зн\n",
      "\n",
      "\n",
      "('http://www.agoda.ua/asia/indonesia/bali/beten_waru_bungalow.html?asq=5VS4rPxIcpCoBEKGzfKvtNPJE%2B9qtYRbWQDWsBEa5Vf84Orryn%2Fe33hY2K0mV%2Fsl', '2013-05-26T01:32:39Z')\n",
      "  > Розміщений у пляжний відпочинок, спортивні події р\n",
      "\n",
      "  > Beten Waru Bungalow в Балі в Індонезія - Найкращі \n",
      "\n",
      "\n",
      "('http://josm.openstreetmap.de/wiki/Uk%3AHelp/Action/Upload?version=14', '2013-05-24T20:11:24Z')\n",
      "  > Файл > Надіслати данні на сервер~~Клавішна комбінац\n",
      "\n",
      "  > Version 14 (modified by andygol, 13 months ago)~~Зм\n",
      "\n",
      "\n",
      "('http://www.agoda.ua/europe/italy/marina_di_massa/tirreno_marina_di_massa_hotel.html?asq=HkeRYo7UcitZ%2FcEEySGyM%2F18hNOYnbb5cnY4bb6Szb2It6iLXWaBZtb2ouXENZyxvSrvZaGYwaz0UD%2F%2Fhll4NQ%3D%3D', '2013-05-23T03:21:52Z')\n",
      "  > Розташований у самому серці Марина ді Маса, Tirren\n",
      "\n",
      "  > Tirreno Marina Di Massa Hotel в Маріна ді Маса в І\n",
      "\n",
      "\n",
      "('http://www.agoda.ua/europe/germany/berlin/hotel_alte_galerie.html?asq=S1%2BEK%2BZ0CDAN9fhHeuyZmiaQX%2BAltM3zYjW6uDLIZelFQ9VGmvpKWRIJVthZSOqwRIl3fgwAdQYIQQNFmDjz4A%3D%3D', '2013-05-20T01:28:26Z')\n",
      "  > Розташований у самому серці Шарлоттенбург, Hotel A\n",
      "\n",
      "  > Hotel Alte Galerie в Берлін в Німеччина - Найкращі\n",
      "\n",
      "\n",
      "('http://www.intel.com/sites/sitewide/uk_UA/termsofuse.htm', '2013-05-24T05:16:41Z')\n",
      "  > Умови використання~~Будь ласка, ознайомтесь з умова\n",
      "\n",
      "  > Intel® Умови використання~~Перейти до змісту Пошук \n",
      "\n",
      "\n",
      "('http://www.agoda.ua/asia/philippines/davao/attractions/hotels_near_aldevinco_shopping_center.html?asq=bs17wTmKLORqTfZUfjFABhF3y531zLRreryKYmqspLi8p91lVGLD3tWcu1q62VsH', '2013-06-18T05:07:25Z')\n",
      "  > найближчий готель~~Зручно розташований у Давао Сіті\n",
      "\n",
      "  > Відобразити найбільш популярні 10 Популярні на дан\n",
      "\n",
      "\n",
      "('http://wikimediafoundation.org/wiki/Appeal/uk', '2013-05-22T17:19:27Z')\n",
      "  > Appeal/uk~~Звернення засновника Вікіпедії, Джиммі В\n",
      "\n",
      "  > Appeal/uk - Wikimedia Foundation~~Appeal/uk~~Я вірю \n",
      "\n",
      "\n",
      "('http://www.agoda.ua/europe/germany/berlin/econtel_hotel_berlin.html?asq=5VS4rPxIcpCoBEKGzfKvtFYPqm%2B4cb%2FAeFDpyYy5WnKqqA9%2FYIBR3aoVWnZuV7jx', '2013-05-22T00:22:01Z')\n",
      "  > Розташований у самому серці Шарлоттенбург, Econtel\n",
      "\n",
      "  > Econtel Hotel Berlin в Берлін в Німеччина - Найкра\n",
      "\n",
      "\n",
      "Number of duplicates: 3,748,748\n",
      "Number of exact matches: 1\n",
      "Ratio of exact matches to duplicates: 0.00%\n"
     ]
    }
   ],
   "source": [
    "import pylcs\n",
    "import tqdm.notebook as tqdm\n",
    "\n",
    "duplicate2text = dict()\n",
    "\n",
    "with open('/media/storage/masters/corpora-sources/0000_culturax_source_info.txt', 'r') as f:\n",
    "    for line in f:\n",
    "        parts = line.split('\\t', 2)\n",
    "        url = parts[0]\n",
    "        timestamp = parts[1]\n",
    "        text = parts[2]\n",
    "        combined = (url, timestamp)\n",
    "\n",
    "        if combined in duplicates:\n",
    "            duplicate2text[combined] = text\n",
    "\n",
    "\n",
    "exact_matches = 0\n",
    "similarities = []\n",
    "\n",
    "progress_bar = tqdm.tqdm(total=len(duplicate2text))\n",
    "x = 0\n",
    "\n",
    "with open('/media/storage/masters/corpora-sources/0000_hplt_source_info.txt', 'r') as f:\n",
    "    for line in f:\n",
    "        parts = line.split('\\t', 2)\n",
    "        url = parts[0]\n",
    "        timestamp = parts[1]\n",
    "        text = parts[2]\n",
    "        combined = (url, timestamp)\n",
    "\n",
    "        if (other_text := duplicate2text.get(combined)):\n",
    "            x += 1\n",
    "\n",
    "            if x > 20:\n",
    "                break\n",
    "\n",
    "\n",
    "            print(combined)\n",
    "            print('  >', text)\n",
    "            print('  >', other_text)\n",
    "            print()\n",
    "            progress_bar.update()\n",
    "            similarities.append(pylcs.lcs(text, other_text) / min(len(text), len(other_text)))\n",
    "            if text == other_text:\n",
    "                exact_matches += 1\n",
    "\n",
    "\n",
    "print(f\"Number of duplicates: {len(duplicates):,}\")\n",
    "print(f\"Number of exact matches: {exact_matches:,}\")\n",
    "print(f\"Ratio of exact matches to duplicates: {exact_matches / len(duplicates):.2%}\")"
   ]
  },
  {
   "cell_type": "code",
   "execution_count": 6,
   "metadata": {},
   "outputs": [
    {
     "name": "stderr",
     "output_type": "stream",
     "text": [
      "/home/goader/.local/lib/python3.10/site-packages/seaborn/_oldcore.py:1119: FutureWarning: use_inf_as_na option is deprecated and will be removed in a future version. Convert inf values to NaN before operating instead.\n",
      "  with pd.option_context('mode.use_inf_as_na', True):\n"
     ]
    },
    {
     "data": {
      "image/png": "[encoded data removed]",
      "text/plain": [
       "<Figure size 1000x600 with 1 Axes>"
      ]
     },
     "metadata": {},
     "output_type": "display_data"
    }
   ],
   "source": [
    "plot_histogram(similarities, bins=40, title=\"Distribution of LCS similarity scores between CulturaX and HPLT 2.0 duplicates\")"
   ]
  },
  {
   "cell_type": "markdown",
   "metadata": {},
   "source": [
    "## FineWeb2 vs CulturaX"
   ]
  },
  {
   "cell_type": "code",
   "execution_count": 4,
   "metadata": {},
   "outputs": [
    {
     "name": "stderr",
     "output_type": "stream",
     "text": [
      "duplicates: 3748748it [04:16, 14634.04it/s]\n"
     ]
    },
    {
     "name": "stdout",
     "output_type": "stream",
     "text": [
      "Total CulturaX documents: 44,740,544\n",
      "Total FineWeb2 documents: 47,552,562\n",
      "Number of duplicates: 8,559,056\n",
      "Duplicate percentage (of FineWeb2): 18.00%\n",
      "Duplicate percentage (of CulturaX): 19.13%\n"
     ]
    },
    {
     "name": "stderr",
     "output_type": "stream",
     "text": []
    }
   ],
   "source": [
    "import tqdm\n",
    "\n",
    "unique_combined = set()\n",
    "\n",
    "culturax_docs = 0\n",
    "fineweb2_docs = 0\n",
    "duplicates = 0\n",
    "\n",
    "with open('/media/storage/masters/corpora-sources/0000_culturax_source_info.txt', 'r') as f:\n",
    "    for line in f:\n",
    "        culturax_docs += 1\n",
    "\n",
    "        parts = line.split('\\t', 2)\n",
    "        url = parts[0]\n",
    "        timestamp = parts[1]\n",
    "        combined = (url, timestamp)\n",
    "\n",
    "        # if combined in unique_combined:\n",
    "        #     duplicates.add(combined)\n",
    "        unique_combined.add(combined)\n",
    "\n",
    "\n",
    "duplicates_bar = tqdm.tqdm(desc='duplicates')\n",
    "\n",
    "with open('/media/storage/masters/corpora-sources/0000_fineweb2_source_info.txt', 'r') as f:\n",
    "    for line in f:\n",
    "        fineweb2_docs += 1\n",
    "\n",
    "        parts = line.split('\\t', 2)\n",
    "        url = parts[0]\n",
    "        timestamp = parts[1]\n",
    "        combined = (url, timestamp)\n",
    "\n",
    "        if combined in unique_combined:\n",
    "            duplicates += 1\n",
    "            duplicates_bar.update()\n",
    "\n",
    "print(f\"Total CulturaX documents: {culturax_docs:,}\")\n",
    "print(f\"Total FineWeb2 documents: {fineweb2_docs:,}\")\n",
    "print(f\"Number of duplicates: {duplicates:,}\")\n",
    "print(f\"Duplicate percentage (of FineWeb2): {(duplicates / fineweb2_docs):.2%}\")\n",
    "print(f\"Duplicate percentage (of CulturaX): {(duplicates / culturax_docs):.2%}\")"
   ]
  },
  {
   "cell_type": "markdown",
   "metadata": {},
   "source": [
    "### Comparing text for duplicate"
   ]
  },
  {
   "cell_type": "code",
   "execution_count": 2,
   "metadata": {},
   "outputs": [],
   "source": [
    "unique_combined = set()\n",
    "\n",
    "culturax_docs = 0\n",
    "fineweb2_docs = 0\n",
    "duplicates = 0\n",
    "\n",
    "with open('/media/storage/masters/corpora-sources/0000_culturax_source_info.txt', 'r') as f:\n",
    "    for line in f:\n",
    "        culturax_docs += 1\n",
    "\n",
    "        parts = line.split('\\t', 2)\n",
    "        url = parts[0]\n",
    "        timestamp = parts[1]\n",
    "        combined = (url, timestamp)\n",
    "\n",
    "        # if combined in unique_combined:\n",
    "        #     duplicates.add(combined)\n",
    "        unique_combined.add(combined)\n",
    "\n",
    "with open('/media/storage/masters/corpora-sources/0000_fineweb2_source_info.txt', 'r') as f, \\\n",
    "     open('/media/storage/masters/corpora-sources/fineweb2-culturax-duplicates.txt', 'w') as w:\n",
    "\n",
    "    for line in f:\n",
    "        fineweb2_docs += 1\n",
    "\n",
    "        parts = line.split('\\t', 2)\n",
    "        url = parts[0]\n",
    "        timestamp = parts[1]\n",
    "        combined = (url, timestamp)\n",
    "\n",
    "        if combined in unique_combined:\n",
    "            duplicates += 1\n",
    "            w.write(f'{combined[0]}\\t{combined[1]}\\n')\n",
    "\n",
    "del unique_combined"
   ]
  },
  {
   "cell_type": "code",
   "execution_count": 3,
   "metadata": {},
   "outputs": [
    {
     "data": {
      "text/plain": [
       "8559056"
      ]
     },
     "execution_count": 3,
     "metadata": {},
     "output_type": "execute_result"
    }
   ],
   "source": [
    "duplicates = set()\n",
    "with open('/media/storage/masters/corpora-sources/fineweb2-culturax-duplicates.txt') as f:\n",
    "    for line in f:\n",
    "        parts = line.split('\\t', 2)\n",
    "        url = parts[0]\n",
    "        timestamp = parts[1].strip()\n",
    "        combined = (url, timestamp)\n",
    "\n",
    "        duplicates.add(combined)\n",
    "    \n",
    "len(duplicates)"
   ]
  },
  {
   "cell_type": "code",
   "execution_count": 4,
   "metadata": {},
   "outputs": [
    {
     "data": {
      "application/vnd.jupyter.widget-view+json": {
       "model_id": "2efec96b759c4c1586cdc67f2bf78fe0",
       "version_major": 2,
       "version_minor": 0
      },
      "text/plain": [
       "  0%|          | 0/8559056 [00:00<?, ?it/s]"
      ]
     },
     "metadata": {},
     "output_type": "display_data"
    },
    {
     "name": "stdout",
     "output_type": "stream",
     "text": [
      "Number of duplicates: 8,559,056\n",
      "Number of exact matches: 1,224,682\n",
      "Ratio of exact matches to duplicates: 14.31%\n"
     ]
    }
   ],
   "source": [
    "import pylcs\n",
    "import tqdm.notebook as tqdm\n",
    "\n",
    "duplicate2text = dict()\n",
    "\n",
    "with open('/media/storage/masters/corpora-sources/0000_culturax_source_info.txt', 'r') as f:\n",
    "    for line in f:\n",
    "        parts = line.split('\\t', 2)\n",
    "        url = parts[0]\n",
    "        timestamp = parts[1]\n",
    "        text = parts[2]\n",
    "        combined = (url, timestamp)\n",
    "\n",
    "        if combined in duplicates:\n",
    "            duplicate2text[combined] = text\n",
    "\n",
    "\n",
    "exact_matches = 0\n",
    "similarities = []\n",
    "\n",
    "progress_bar = tqdm.tqdm(total=len(duplicate2text))\n",
    "\n",
    "with open('/media/storage/masters/corpora-sources/0000_fineweb2_source_info.txt', 'r') as f:\n",
    "    for line in f:\n",
    "        parts = line.split('\\t', 2)\n",
    "        url = parts[0]\n",
    "        timestamp = parts[1]\n",
    "        text = parts[2]\n",
    "        combined = (url, timestamp)\n",
    "\n",
    "        if (other_text := duplicate2text.get(combined)):\n",
    "            progress_bar.update()\n",
    "            similarities.append(pylcs.lcs(text, other_text) / min(len(text), len(other_text)))\n",
    "            if text == other_text:\n",
    "                exact_matches += 1\n",
    "\n",
    "\n",
    "print(f\"Number of duplicates: {len(duplicates):,}\")\n",
    "print(f\"Number of exact matches: {exact_matches:,}\")\n",
    "print(f\"Ratio of exact matches to duplicates: {exact_matches / len(duplicates):.2%}\")"
   ]
  },
  {
   "cell_type": "code",
   "execution_count": 5,
   "metadata": {},
   "outputs": [
    {
     "name": "stderr",
     "output_type": "stream",
     "text": [
      "/home/goader/.local/lib/python3.10/site-packages/seaborn/_oldcore.py:1119: FutureWarning: use_inf_as_na option is deprecated and will be removed in a future version. Convert inf values to NaN before operating instead.\n",
      "  with pd.option_context('mode.use_inf_as_na', True):\n"
     ]
    },
    {
     "data": {
      "image/png": "[encoded data removed]",
      "text/plain": [
       "<Figure size 1000x600 with 1 Axes>"
      ]
     },
     "metadata": {},
     "output_type": "display_data"
    }
   ],
   "source": [
    "plot_histogram(similarities, bins=40, title=\"Distribution of LCS similarity scores between CulturaX and Fineweb 2 duplicates\")"
   ]
  },
  {
   "cell_type": "code",
   "execution_count": null,
   "metadata": {},
   "outputs": [],
   "source": []
  },
  {
   "cell_type": "code",
   "execution_count": null,
   "metadata": {},
   "outputs": [],
   "source": []
  }
 ],
 "metadata": {
  "kernelspec": {
   "display_name": "main",
   "language": "python",
   "name": "main"
  },
  "language_info": {
   "codemirror_mode": {
    "name": "ipython",
    "version": 3
   },
   "file_extension": ".py",
   "mimetype": "text/x-python",
   "name": "python",
   "nbconvert_exporter": "python",
   "pygments_lexer": "ipython3",
   "version": "3.10.12"
  }
 },
 "nbformat": 4,
 "nbformat_minor": 2
}
