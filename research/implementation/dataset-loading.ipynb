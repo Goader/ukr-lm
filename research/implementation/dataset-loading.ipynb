{
 "cells": [
  {
   "cell_type": "markdown",
   "metadata": {},
   "source": [
    "# Exploring dataset loading"
   ]
  },
  {
   "cell_type": "code",
   "execution_count": 1,
   "metadata": {
    "ExecuteTime": {
     "end_time": "2023-07-23T15:32:17.466715180Z",
     "start_time": "2023-07-23T15:32:16.794213027Z"
    }
   },
   "outputs": [],
   "source": [
    "from datasets import load_dataset"
   ]
  },
  {
   "cell_type": "markdown",
   "metadata": {},
   "source": [
    "## Loading small dataset"
   ]
  },
  {
   "cell_type": "code",
   "execution_count": 4,
   "metadata": {},
   "outputs": [
    {
     "name": "stdout",
     "output_type": "stream",
     "text": [
      "/home/goader/Desktop/agh/masters/ukr-lm/research/implementation\r\n"
     ]
    }
   ],
   "source": [
    "!pwd"
   ]
  },
  {
   "cell_type": "code",
   "execution_count": 43,
   "metadata": {},
   "outputs": [],
   "source": [
    "!ln -s /media/goader/masters/corpora/cc-100 cc100"
   ]
  },
  {
   "cell_type": "code",
   "execution_count": 44,
   "metadata": {},
   "outputs": [
    {
     "name": "stdout",
     "output_type": "stream",
     "text": [
      "Downloading and preparing dataset text/cc100 to /home/goader/Desktop/agh/masters/ukr-lm/research/implementation/cc100/text/cc100-28e63f0ce4ed6e16/0.0.0/cb1e9bd71a82ad27976be3b12b407850fe2837d80c22c5e03a28949843a8ace2...\n"
     ]
    },
    {
     "data": {
      "application/vnd.jupyter.widget-view+json": {
       "model_id": "0852e4fb7b22440395d4381c43809336",
       "version_major": 2,
       "version_minor": 0
      },
      "text/plain": [
       "Downloading data files:   0%|          | 0/1 [00:00<?, ?it/s]"
      ]
     },
     "metadata": {},
     "output_type": "display_data"
    },
    {
     "data": {
      "application/vnd.jupyter.widget-view+json": {
       "model_id": "3c436b5084b0425b96ceaba03202ddbf",
       "version_major": 2,
       "version_minor": 0
      },
      "text/plain": [
       "Extracting data files:   0%|          | 0/1 [00:00<?, ?it/s]"
      ]
     },
     "metadata": {},
     "output_type": "display_data"
    },
    {
     "data": {
      "application/vnd.jupyter.widget-view+json": {
       "model_id": "",
       "version_major": 2,
       "version_minor": 0
      },
      "text/plain": [
       "Generating train split: 0 examples [00:00, ? examples/s]"
      ]
     },
     "metadata": {},
     "output_type": "display_data"
    },
    {
     "ename": "KeyboardInterrupt",
     "evalue": "",
     "output_type": "error",
     "traceback": [
      "\u001b[0;31m---------------------------------------------------------------------------\u001b[0m",
      "\u001b[0;31mKeyboardInterrupt\u001b[0m                         Traceback (most recent call last)",
      "Cell \u001b[0;32mIn[44], line 1\u001b[0m\n\u001b[0;32m----> 1\u001b[0m cc100 \u001b[38;5;241m=\u001b[39m \u001b[43mload_dataset\u001b[49m\u001b[43m(\u001b[49m\u001b[38;5;124;43m'\u001b[39;49m\u001b[38;5;124;43mcc100\u001b[39;49m\u001b[38;5;124;43m'\u001b[39;49m\u001b[43m,\u001b[49m\u001b[43m \u001b[49m\u001b[43mdata_files\u001b[49m\u001b[38;5;241;43m=\u001b[39;49m\u001b[38;5;124;43m'\u001b[39;49m\u001b[38;5;124;43muk.txt\u001b[39;49m\u001b[38;5;124;43m'\u001b[39;49m\u001b[43m,\u001b[49m\u001b[43m \u001b[49m\u001b[43mcache_dir\u001b[49m\u001b[38;5;241;43m=\u001b[39;49m\u001b[38;5;124;43m'\u001b[39;49m\u001b[38;5;124;43mcc100\u001b[39;49m\u001b[38;5;124;43m'\u001b[39;49m\u001b[43m)\u001b[49m\n",
      "File \u001b[0;32m~/.local/lib/python3.10/site-packages/datasets/load.py:1809\u001b[0m, in \u001b[0;36mload_dataset\u001b[0;34m(path, name, data_dir, data_files, split, cache_dir, features, download_config, download_mode, verification_mode, ignore_verifications, keep_in_memory, save_infos, revision, use_auth_token, task, streaming, num_proc, storage_options, **config_kwargs)\u001b[0m\n\u001b[1;32m   1806\u001b[0m try_from_hf_gcs \u001b[38;5;241m=\u001b[39m path \u001b[38;5;129;01mnot\u001b[39;00m \u001b[38;5;129;01min\u001b[39;00m _PACKAGED_DATASETS_MODULES\n\u001b[1;32m   1808\u001b[0m \u001b[38;5;66;03m# Download and prepare data\u001b[39;00m\n\u001b[0;32m-> 1809\u001b[0m \u001b[43mbuilder_instance\u001b[49m\u001b[38;5;241;43m.\u001b[39;49m\u001b[43mdownload_and_prepare\u001b[49m\u001b[43m(\u001b[49m\n\u001b[1;32m   1810\u001b[0m \u001b[43m    \u001b[49m\u001b[43mdownload_config\u001b[49m\u001b[38;5;241;43m=\u001b[39;49m\u001b[43mdownload_config\u001b[49m\u001b[43m,\u001b[49m\n\u001b[1;32m   1811\u001b[0m \u001b[43m    \u001b[49m\u001b[43mdownload_mode\u001b[49m\u001b[38;5;241;43m=\u001b[39;49m\u001b[43mdownload_mode\u001b[49m\u001b[43m,\u001b[49m\n\u001b[1;32m   1812\u001b[0m \u001b[43m    \u001b[49m\u001b[43mverification_mode\u001b[49m\u001b[38;5;241;43m=\u001b[39;49m\u001b[43mverification_mode\u001b[49m\u001b[43m,\u001b[49m\n\u001b[1;32m   1813\u001b[0m \u001b[43m    \u001b[49m\u001b[43mtry_from_hf_gcs\u001b[49m\u001b[38;5;241;43m=\u001b[39;49m\u001b[43mtry_from_hf_gcs\u001b[49m\u001b[43m,\u001b[49m\n\u001b[1;32m   1814\u001b[0m \u001b[43m    \u001b[49m\u001b[43mnum_proc\u001b[49m\u001b[38;5;241;43m=\u001b[39;49m\u001b[43mnum_proc\u001b[49m\u001b[43m,\u001b[49m\n\u001b[1;32m   1815\u001b[0m \u001b[43m    \u001b[49m\u001b[43mstorage_options\u001b[49m\u001b[38;5;241;43m=\u001b[39;49m\u001b[43mstorage_options\u001b[49m\u001b[43m,\u001b[49m\n\u001b[1;32m   1816\u001b[0m \u001b[43m\u001b[49m\u001b[43m)\u001b[49m\n\u001b[1;32m   1818\u001b[0m \u001b[38;5;66;03m# Build dataset for splits\u001b[39;00m\n\u001b[1;32m   1819\u001b[0m keep_in_memory \u001b[38;5;241m=\u001b[39m (\n\u001b[1;32m   1820\u001b[0m     keep_in_memory \u001b[38;5;28;01mif\u001b[39;00m keep_in_memory \u001b[38;5;129;01mis\u001b[39;00m \u001b[38;5;129;01mnot\u001b[39;00m \u001b[38;5;28;01mNone\u001b[39;00m \u001b[38;5;28;01melse\u001b[39;00m is_small_dataset(builder_instance\u001b[38;5;241m.\u001b[39minfo\u001b[38;5;241m.\u001b[39mdataset_size)\n\u001b[1;32m   1821\u001b[0m )\n",
      "File \u001b[0;32m~/.local/lib/python3.10/site-packages/datasets/builder.py:909\u001b[0m, in \u001b[0;36mDatasetBuilder.download_and_prepare\u001b[0;34m(self, output_dir, download_config, download_mode, verification_mode, ignore_verifications, try_from_hf_gcs, dl_manager, base_path, use_auth_token, file_format, max_shard_size, num_proc, storage_options, **download_and_prepare_kwargs)\u001b[0m\n\u001b[1;32m    907\u001b[0m     \u001b[38;5;28;01mif\u001b[39;00m num_proc \u001b[38;5;129;01mis\u001b[39;00m \u001b[38;5;129;01mnot\u001b[39;00m \u001b[38;5;28;01mNone\u001b[39;00m:\n\u001b[1;32m    908\u001b[0m         prepare_split_kwargs[\u001b[38;5;124m\"\u001b[39m\u001b[38;5;124mnum_proc\u001b[39m\u001b[38;5;124m\"\u001b[39m] \u001b[38;5;241m=\u001b[39m num_proc\n\u001b[0;32m--> 909\u001b[0m     \u001b[38;5;28;43mself\u001b[39;49m\u001b[38;5;241;43m.\u001b[39;49m\u001b[43m_download_and_prepare\u001b[49m\u001b[43m(\u001b[49m\n\u001b[1;32m    910\u001b[0m \u001b[43m        \u001b[49m\u001b[43mdl_manager\u001b[49m\u001b[38;5;241;43m=\u001b[39;49m\u001b[43mdl_manager\u001b[49m\u001b[43m,\u001b[49m\n\u001b[1;32m    911\u001b[0m \u001b[43m        \u001b[49m\u001b[43mverification_mode\u001b[49m\u001b[38;5;241;43m=\u001b[39;49m\u001b[43mverification_mode\u001b[49m\u001b[43m,\u001b[49m\n\u001b[1;32m    912\u001b[0m \u001b[43m        \u001b[49m\u001b[38;5;241;43m*\u001b[39;49m\u001b[38;5;241;43m*\u001b[39;49m\u001b[43mprepare_split_kwargs\u001b[49m\u001b[43m,\u001b[49m\n\u001b[1;32m    913\u001b[0m \u001b[43m        \u001b[49m\u001b[38;5;241;43m*\u001b[39;49m\u001b[38;5;241;43m*\u001b[39;49m\u001b[43mdownload_and_prepare_kwargs\u001b[49m\u001b[43m,\u001b[49m\n\u001b[1;32m    914\u001b[0m \u001b[43m    \u001b[49m\u001b[43m)\u001b[49m\n\u001b[1;32m    915\u001b[0m \u001b[38;5;66;03m# Sync info\u001b[39;00m\n\u001b[1;32m    916\u001b[0m \u001b[38;5;28mself\u001b[39m\u001b[38;5;241m.\u001b[39minfo\u001b[38;5;241m.\u001b[39mdataset_size \u001b[38;5;241m=\u001b[39m \u001b[38;5;28msum\u001b[39m(split\u001b[38;5;241m.\u001b[39mnum_bytes \u001b[38;5;28;01mfor\u001b[39;00m split \u001b[38;5;129;01min\u001b[39;00m \u001b[38;5;28mself\u001b[39m\u001b[38;5;241m.\u001b[39minfo\u001b[38;5;241m.\u001b[39msplits\u001b[38;5;241m.\u001b[39mvalues())\n",
      "File \u001b[0;32m~/.local/lib/python3.10/site-packages/datasets/builder.py:1004\u001b[0m, in \u001b[0;36mDatasetBuilder._download_and_prepare\u001b[0;34m(self, dl_manager, verification_mode, **prepare_split_kwargs)\u001b[0m\n\u001b[1;32m   1000\u001b[0m split_dict\u001b[38;5;241m.\u001b[39madd(split_generator\u001b[38;5;241m.\u001b[39msplit_info)\n\u001b[1;32m   1002\u001b[0m \u001b[38;5;28;01mtry\u001b[39;00m:\n\u001b[1;32m   1003\u001b[0m     \u001b[38;5;66;03m# Prepare split will record examples associated to the split\u001b[39;00m\n\u001b[0;32m-> 1004\u001b[0m     \u001b[38;5;28;43mself\u001b[39;49m\u001b[38;5;241;43m.\u001b[39;49m\u001b[43m_prepare_split\u001b[49m\u001b[43m(\u001b[49m\u001b[43msplit_generator\u001b[49m\u001b[43m,\u001b[49m\u001b[43m \u001b[49m\u001b[38;5;241;43m*\u001b[39;49m\u001b[38;5;241;43m*\u001b[39;49m\u001b[43mprepare_split_kwargs\u001b[49m\u001b[43m)\u001b[49m\n\u001b[1;32m   1005\u001b[0m \u001b[38;5;28;01mexcept\u001b[39;00m \u001b[38;5;167;01mOSError\u001b[39;00m \u001b[38;5;28;01mas\u001b[39;00m e:\n\u001b[1;32m   1006\u001b[0m     \u001b[38;5;28;01mraise\u001b[39;00m \u001b[38;5;167;01mOSError\u001b[39;00m(\n\u001b[1;32m   1007\u001b[0m         \u001b[38;5;124m\"\u001b[39m\u001b[38;5;124mCannot find data file. \u001b[39m\u001b[38;5;124m\"\u001b[39m\n\u001b[1;32m   1008\u001b[0m         \u001b[38;5;241m+\u001b[39m (\u001b[38;5;28mself\u001b[39m\u001b[38;5;241m.\u001b[39mmanual_download_instructions \u001b[38;5;129;01mor\u001b[39;00m \u001b[38;5;124m\"\u001b[39m\u001b[38;5;124m\"\u001b[39m)\n\u001b[1;32m   1009\u001b[0m         \u001b[38;5;241m+\u001b[39m \u001b[38;5;124m\"\u001b[39m\u001b[38;5;130;01m\\n\u001b[39;00m\u001b[38;5;124mOriginal error:\u001b[39m\u001b[38;5;130;01m\\n\u001b[39;00m\u001b[38;5;124m\"\u001b[39m\n\u001b[1;32m   1010\u001b[0m         \u001b[38;5;241m+\u001b[39m \u001b[38;5;28mstr\u001b[39m(e)\n\u001b[1;32m   1011\u001b[0m     ) \u001b[38;5;28;01mfrom\u001b[39;00m \u001b[38;5;28mNone\u001b[39m\n",
      "File \u001b[0;32m~/.local/lib/python3.10/site-packages/datasets/builder.py:1767\u001b[0m, in \u001b[0;36mArrowBasedBuilder._prepare_split\u001b[0;34m(self, split_generator, file_format, num_proc, max_shard_size)\u001b[0m\n\u001b[1;32m   1765\u001b[0m job_id \u001b[38;5;241m=\u001b[39m \u001b[38;5;241m0\u001b[39m\n\u001b[1;32m   1766\u001b[0m \u001b[38;5;28;01mwith\u001b[39;00m pbar:\n\u001b[0;32m-> 1767\u001b[0m     \u001b[38;5;28;01mfor\u001b[39;00m job_id, done, content \u001b[38;5;129;01min\u001b[39;00m \u001b[38;5;28mself\u001b[39m\u001b[38;5;241m.\u001b[39m_prepare_split_single(\n\u001b[1;32m   1768\u001b[0m         gen_kwargs\u001b[38;5;241m=\u001b[39mgen_kwargs, job_id\u001b[38;5;241m=\u001b[39mjob_id, \u001b[38;5;241m*\u001b[39m\u001b[38;5;241m*\u001b[39m_prepare_split_args\n\u001b[1;32m   1769\u001b[0m     ):\n\u001b[1;32m   1770\u001b[0m         \u001b[38;5;28;01mif\u001b[39;00m done:\n\u001b[1;32m   1771\u001b[0m             result \u001b[38;5;241m=\u001b[39m content\n",
      "File \u001b[0;32m~/.local/lib/python3.10/site-packages/datasets/builder.py:1879\u001b[0m, in \u001b[0;36mArrowBasedBuilder._prepare_split_single\u001b[0;34m(self, gen_kwargs, fpath, file_format, max_shard_size, job_id)\u001b[0m\n\u001b[1;32m   1877\u001b[0m \u001b[38;5;28;01mtry\u001b[39;00m:\n\u001b[1;32m   1878\u001b[0m     _time \u001b[38;5;241m=\u001b[39m time\u001b[38;5;241m.\u001b[39mtime()\n\u001b[0;32m-> 1879\u001b[0m     \u001b[38;5;28;01mfor\u001b[39;00m _, table \u001b[38;5;129;01min\u001b[39;00m generator:\n\u001b[1;32m   1880\u001b[0m         \u001b[38;5;28;01mif\u001b[39;00m max_shard_size \u001b[38;5;129;01mis\u001b[39;00m \u001b[38;5;129;01mnot\u001b[39;00m \u001b[38;5;28;01mNone\u001b[39;00m \u001b[38;5;129;01mand\u001b[39;00m writer\u001b[38;5;241m.\u001b[39m_num_bytes \u001b[38;5;241m>\u001b[39m max_shard_size:\n\u001b[1;32m   1881\u001b[0m             num_examples, num_bytes \u001b[38;5;241m=\u001b[39m writer\u001b[38;5;241m.\u001b[39mfinalize()\n",
      "File \u001b[0;32m~/.local/lib/python3.10/site-packages/datasets/packaged_modules/text/text.py:78\u001b[0m, in \u001b[0;36mText._generate_tables\u001b[0;34m(self, files)\u001b[0m\n\u001b[1;32m     76\u001b[0m batch_idx \u001b[38;5;241m=\u001b[39m \u001b[38;5;241m0\u001b[39m\n\u001b[1;32m     77\u001b[0m \u001b[38;5;28;01mwhile\u001b[39;00m \u001b[38;5;28;01mTrue\u001b[39;00m:\n\u001b[0;32m---> 78\u001b[0m     batch \u001b[38;5;241m=\u001b[39m \u001b[43mf\u001b[49m\u001b[38;5;241;43m.\u001b[39;49m\u001b[43mread\u001b[49m\u001b[43m(\u001b[49m\u001b[38;5;28;43mself\u001b[39;49m\u001b[38;5;241;43m.\u001b[39;49m\u001b[43mconfig\u001b[49m\u001b[38;5;241;43m.\u001b[39;49m\u001b[43mchunksize\u001b[49m\u001b[43m)\u001b[49m\n\u001b[1;32m     79\u001b[0m     \u001b[38;5;28;01mif\u001b[39;00m \u001b[38;5;129;01mnot\u001b[39;00m batch:\n\u001b[1;32m     80\u001b[0m         \u001b[38;5;28;01mbreak\u001b[39;00m\n",
      "File \u001b[0;32m/usr/lib/python3.10/codecs.py:322\u001b[0m, in \u001b[0;36mBufferedIncrementalDecoder.decode\u001b[0;34m(self, input, final)\u001b[0m\n\u001b[1;32m    319\u001b[0m \u001b[38;5;28;01mdef\u001b[39;00m \u001b[38;5;21mdecode\u001b[39m(\u001b[38;5;28mself\u001b[39m, \u001b[38;5;28minput\u001b[39m, final\u001b[38;5;241m=\u001b[39m\u001b[38;5;28;01mFalse\u001b[39;00m):\n\u001b[1;32m    320\u001b[0m     \u001b[38;5;66;03m# decode input (taking the buffer into account)\u001b[39;00m\n\u001b[1;32m    321\u001b[0m     data \u001b[38;5;241m=\u001b[39m \u001b[38;5;28mself\u001b[39m\u001b[38;5;241m.\u001b[39mbuffer \u001b[38;5;241m+\u001b[39m \u001b[38;5;28minput\u001b[39m\n\u001b[0;32m--> 322\u001b[0m     (result, consumed) \u001b[38;5;241m=\u001b[39m \u001b[38;5;28;43mself\u001b[39;49m\u001b[38;5;241;43m.\u001b[39;49m\u001b[43m_buffer_decode\u001b[49m\u001b[43m(\u001b[49m\u001b[43mdata\u001b[49m\u001b[43m,\u001b[49m\u001b[43m \u001b[49m\u001b[38;5;28;43mself\u001b[39;49m\u001b[38;5;241;43m.\u001b[39;49m\u001b[43merrors\u001b[49m\u001b[43m,\u001b[49m\u001b[43m \u001b[49m\u001b[43mfinal\u001b[49m\u001b[43m)\u001b[49m\n\u001b[1;32m    323\u001b[0m     \u001b[38;5;66;03m# keep undecoded input until the next call\u001b[39;00m\n\u001b[1;32m    324\u001b[0m     \u001b[38;5;28mself\u001b[39m\u001b[38;5;241m.\u001b[39mbuffer \u001b[38;5;241m=\u001b[39m data[consumed:]\n",
      "\u001b[0;31mKeyboardInterrupt\u001b[0m: "
     ]
    }
   ],
   "source": [
    "cc100 = load_dataset('cc100', data_files='uk.txt', cache_dir='cc100')"
   ]
  },
  {
   "cell_type": "code",
   "execution_count": 42,
   "metadata": {},
   "outputs": [
    {
     "ename": "FileNotFoundError",
     "evalue": "Unable to find 'https://huggingface.co/datasets/cc100/resolve/main/uk.txt' at /home/goader/Desktop/agh/masters/ukr-lm/research/implementation/https:/huggingface.co/datasets/cc100/resolve/main",
     "output_type": "error",
     "traceback": [
      "\u001b[0;31m---------------------------------------------------------------------------\u001b[0m",
      "\u001b[0;31mFileNotFoundError\u001b[0m                         Traceback (most recent call last)",
      "Cell \u001b[0;32mIn[42], line 1\u001b[0m\n\u001b[0;32m----> 1\u001b[0m cc100 \u001b[38;5;241m=\u001b[39m \u001b[43mload_dataset\u001b[49m\u001b[43m(\u001b[49m\u001b[38;5;124;43m'\u001b[39;49m\u001b[38;5;124;43mcc100\u001b[39;49m\u001b[38;5;124;43m'\u001b[39;49m\u001b[43m,\u001b[49m\u001b[43m \u001b[49m\u001b[43mlang\u001b[49m\u001b[38;5;241;43m=\u001b[39;49m\u001b[38;5;124;43m'\u001b[39;49m\u001b[38;5;124;43muk\u001b[39;49m\u001b[38;5;124;43m'\u001b[39;49m\u001b[43m,\u001b[49m\u001b[43m \u001b[49m\u001b[43mdata_files\u001b[49m\u001b[38;5;241;43m=\u001b[39;49m\u001b[38;5;124;43m'\u001b[39;49m\u001b[38;5;124;43muk.txt\u001b[39;49m\u001b[38;5;124;43m'\u001b[39;49m\u001b[43m,\u001b[49m\u001b[43m \u001b[49m\u001b[43mcache_dir\u001b[49m\u001b[38;5;241;43m=\u001b[39;49m\u001b[38;5;124;43m'\u001b[39;49m\u001b[38;5;124;43m/media/goader/masters/corpora/cc-100\u001b[39;49m\u001b[38;5;124;43m'\u001b[39;49m\u001b[43m)\u001b[49m\n",
      "File \u001b[0;32m~/.local/lib/python3.10/site-packages/datasets/load.py:1785\u001b[0m, in \u001b[0;36mload_dataset\u001b[0;34m(path, name, data_dir, data_files, split, cache_dir, features, download_config, download_mode, verification_mode, ignore_verifications, keep_in_memory, save_infos, revision, use_auth_token, task, streaming, num_proc, storage_options, **config_kwargs)\u001b[0m\n\u001b[1;32m   1780\u001b[0m verification_mode \u001b[38;5;241m=\u001b[39m VerificationMode(\n\u001b[1;32m   1781\u001b[0m     (verification_mode \u001b[38;5;129;01mor\u001b[39;00m VerificationMode\u001b[38;5;241m.\u001b[39mBASIC_CHECKS) \u001b[38;5;28;01mif\u001b[39;00m \u001b[38;5;129;01mnot\u001b[39;00m save_infos \u001b[38;5;28;01melse\u001b[39;00m VerificationMode\u001b[38;5;241m.\u001b[39mALL_CHECKS\n\u001b[1;32m   1782\u001b[0m )\n\u001b[1;32m   1784\u001b[0m \u001b[38;5;66;03m# Create a dataset builder\u001b[39;00m\n\u001b[0;32m-> 1785\u001b[0m builder_instance \u001b[38;5;241m=\u001b[39m \u001b[43mload_dataset_builder\u001b[49m\u001b[43m(\u001b[49m\n\u001b[1;32m   1786\u001b[0m \u001b[43m    \u001b[49m\u001b[43mpath\u001b[49m\u001b[38;5;241;43m=\u001b[39;49m\u001b[43mpath\u001b[49m\u001b[43m,\u001b[49m\n\u001b[1;32m   1787\u001b[0m \u001b[43m    \u001b[49m\u001b[43mname\u001b[49m\u001b[38;5;241;43m=\u001b[39;49m\u001b[43mname\u001b[49m\u001b[43m,\u001b[49m\n\u001b[1;32m   1788\u001b[0m \u001b[43m    \u001b[49m\u001b[43mdata_dir\u001b[49m\u001b[38;5;241;43m=\u001b[39;49m\u001b[43mdata_dir\u001b[49m\u001b[43m,\u001b[49m\n\u001b[1;32m   1789\u001b[0m \u001b[43m    \u001b[49m\u001b[43mdata_files\u001b[49m\u001b[38;5;241;43m=\u001b[39;49m\u001b[43mdata_files\u001b[49m\u001b[43m,\u001b[49m\n\u001b[1;32m   1790\u001b[0m \u001b[43m    \u001b[49m\u001b[43mcache_dir\u001b[49m\u001b[38;5;241;43m=\u001b[39;49m\u001b[43mcache_dir\u001b[49m\u001b[43m,\u001b[49m\n\u001b[1;32m   1791\u001b[0m \u001b[43m    \u001b[49m\u001b[43mfeatures\u001b[49m\u001b[38;5;241;43m=\u001b[39;49m\u001b[43mfeatures\u001b[49m\u001b[43m,\u001b[49m\n\u001b[1;32m   1792\u001b[0m \u001b[43m    \u001b[49m\u001b[43mdownload_config\u001b[49m\u001b[38;5;241;43m=\u001b[39;49m\u001b[43mdownload_config\u001b[49m\u001b[43m,\u001b[49m\n\u001b[1;32m   1793\u001b[0m \u001b[43m    \u001b[49m\u001b[43mdownload_mode\u001b[49m\u001b[38;5;241;43m=\u001b[39;49m\u001b[43mdownload_mode\u001b[49m\u001b[43m,\u001b[49m\n\u001b[1;32m   1794\u001b[0m \u001b[43m    \u001b[49m\u001b[43mrevision\u001b[49m\u001b[38;5;241;43m=\u001b[39;49m\u001b[43mrevision\u001b[49m\u001b[43m,\u001b[49m\n\u001b[1;32m   1795\u001b[0m \u001b[43m    \u001b[49m\u001b[43muse_auth_token\u001b[49m\u001b[38;5;241;43m=\u001b[39;49m\u001b[43muse_auth_token\u001b[49m\u001b[43m,\u001b[49m\n\u001b[1;32m   1796\u001b[0m \u001b[43m    \u001b[49m\u001b[43mstorage_options\u001b[49m\u001b[38;5;241;43m=\u001b[39;49m\u001b[43mstorage_options\u001b[49m\u001b[43m,\u001b[49m\n\u001b[1;32m   1797\u001b[0m \u001b[43m    \u001b[49m\u001b[38;5;241;43m*\u001b[39;49m\u001b[38;5;241;43m*\u001b[39;49m\u001b[43mconfig_kwargs\u001b[49m\u001b[43m,\u001b[49m\n\u001b[1;32m   1798\u001b[0m \u001b[43m\u001b[49m\u001b[43m)\u001b[49m\n\u001b[1;32m   1800\u001b[0m \u001b[38;5;66;03m# Return iterable dataset in case of streaming\u001b[39;00m\n\u001b[1;32m   1801\u001b[0m \u001b[38;5;28;01mif\u001b[39;00m streaming:\n",
      "File \u001b[0;32m~/.local/lib/python3.10/site-packages/datasets/load.py:1540\u001b[0m, in \u001b[0;36mload_dataset_builder\u001b[0;34m(path, name, data_dir, data_files, cache_dir, features, download_config, download_mode, revision, use_auth_token, storage_options, **config_kwargs)\u001b[0m\n\u001b[1;32m   1537\u001b[0m     \u001b[38;5;28;01mraise\u001b[39;00m \u001b[38;5;167;01mValueError\u001b[39;00m(error_msg)\n\u001b[1;32m   1539\u001b[0m \u001b[38;5;66;03m# Instantiate the dataset builder\u001b[39;00m\n\u001b[0;32m-> 1540\u001b[0m builder_instance: DatasetBuilder \u001b[38;5;241m=\u001b[39m \u001b[43mbuilder_cls\u001b[49m\u001b[43m(\u001b[49m\n\u001b[1;32m   1541\u001b[0m \u001b[43m    \u001b[49m\u001b[43mcache_dir\u001b[49m\u001b[38;5;241;43m=\u001b[39;49m\u001b[43mcache_dir\u001b[49m\u001b[43m,\u001b[49m\n\u001b[1;32m   1542\u001b[0m \u001b[43m    \u001b[49m\u001b[43mconfig_name\u001b[49m\u001b[38;5;241;43m=\u001b[39;49m\u001b[43mconfig_name\u001b[49m\u001b[43m,\u001b[49m\n\u001b[1;32m   1543\u001b[0m \u001b[43m    \u001b[49m\u001b[43mdata_dir\u001b[49m\u001b[38;5;241;43m=\u001b[39;49m\u001b[43mdata_dir\u001b[49m\u001b[43m,\u001b[49m\n\u001b[1;32m   1544\u001b[0m \u001b[43m    \u001b[49m\u001b[43mdata_files\u001b[49m\u001b[38;5;241;43m=\u001b[39;49m\u001b[43mdata_files\u001b[49m\u001b[43m,\u001b[49m\n\u001b[1;32m   1545\u001b[0m \u001b[43m    \u001b[49m\u001b[38;5;28;43mhash\u001b[39;49m\u001b[38;5;241;43m=\u001b[39;49m\u001b[38;5;28;43mhash\u001b[39;49m\u001b[43m,\u001b[49m\n\u001b[1;32m   1546\u001b[0m \u001b[43m    \u001b[49m\u001b[43mfeatures\u001b[49m\u001b[38;5;241;43m=\u001b[39;49m\u001b[43mfeatures\u001b[49m\u001b[43m,\u001b[49m\n\u001b[1;32m   1547\u001b[0m \u001b[43m    \u001b[49m\u001b[43muse_auth_token\u001b[49m\u001b[38;5;241;43m=\u001b[39;49m\u001b[43muse_auth_token\u001b[49m\u001b[43m,\u001b[49m\n\u001b[1;32m   1548\u001b[0m \u001b[43m    \u001b[49m\u001b[43mstorage_options\u001b[49m\u001b[38;5;241;43m=\u001b[39;49m\u001b[43mstorage_options\u001b[49m\u001b[43m,\u001b[49m\n\u001b[1;32m   1549\u001b[0m \u001b[43m    \u001b[49m\u001b[38;5;241;43m*\u001b[39;49m\u001b[38;5;241;43m*\u001b[39;49m\u001b[43mbuilder_kwargs\u001b[49m\u001b[43m,\u001b[49m\n\u001b[1;32m   1550\u001b[0m \u001b[43m    \u001b[49m\u001b[38;5;241;43m*\u001b[39;49m\u001b[38;5;241;43m*\u001b[39;49m\u001b[43mconfig_kwargs\u001b[49m\u001b[43m,\u001b[49m\n\u001b[1;32m   1551\u001b[0m \u001b[43m\u001b[49m\u001b[43m)\u001b[49m\n\u001b[1;32m   1553\u001b[0m \u001b[38;5;28;01mreturn\u001b[39;00m builder_instance\n",
      "File \u001b[0;32m~/.local/lib/python3.10/site-packages/datasets/builder.py:344\u001b[0m, in \u001b[0;36mDatasetBuilder.__init__\u001b[0;34m(self, cache_dir, config_name, hash, base_path, info, features, use_auth_token, repo_id, data_files, data_dir, storage_options, writer_batch_size, name, **config_kwargs)\u001b[0m\n\u001b[1;32m    341\u001b[0m \u001b[38;5;28mself\u001b[39m\u001b[38;5;241m.\u001b[39m_writer_batch_size \u001b[38;5;241m=\u001b[39m writer_batch_size \u001b[38;5;129;01mor\u001b[39;00m \u001b[38;5;28mself\u001b[39m\u001b[38;5;241m.\u001b[39mDEFAULT_WRITER_BATCH_SIZE\n\u001b[1;32m    343\u001b[0m \u001b[38;5;28;01mif\u001b[39;00m data_files \u001b[38;5;129;01mis\u001b[39;00m \u001b[38;5;129;01mnot\u001b[39;00m \u001b[38;5;28;01mNone\u001b[39;00m \u001b[38;5;129;01mand\u001b[39;00m \u001b[38;5;129;01mnot\u001b[39;00m \u001b[38;5;28misinstance\u001b[39m(data_files, DataFilesDict):\n\u001b[0;32m--> 344\u001b[0m     data_files \u001b[38;5;241m=\u001b[39m \u001b[43mDataFilesDict\u001b[49m\u001b[38;5;241;43m.\u001b[39;49m\u001b[43mfrom_local_or_remote\u001b[49m\u001b[43m(\u001b[49m\n\u001b[1;32m    345\u001b[0m \u001b[43m        \u001b[49m\u001b[43msanitize_patterns\u001b[49m\u001b[43m(\u001b[49m\u001b[43mdata_files\u001b[49m\u001b[43m)\u001b[49m\u001b[43m,\u001b[49m\u001b[43m \u001b[49m\u001b[43mbase_path\u001b[49m\u001b[38;5;241;43m=\u001b[39;49m\u001b[43mbase_path\u001b[49m\u001b[43m,\u001b[49m\u001b[43m \u001b[49m\u001b[43muse_auth_token\u001b[49m\u001b[38;5;241;43m=\u001b[39;49m\u001b[43muse_auth_token\u001b[49m\n\u001b[1;32m    346\u001b[0m \u001b[43m    \u001b[49m\u001b[43m)\u001b[49m\n\u001b[1;32m    348\u001b[0m \u001b[38;5;66;03m# Prepare config: DatasetConfig contains name, version and description but can be extended by each dataset\u001b[39;00m\n\u001b[1;32m    349\u001b[0m \u001b[38;5;28;01mif\u001b[39;00m \u001b[38;5;124m\"\u001b[39m\u001b[38;5;124mfeatures\u001b[39m\u001b[38;5;124m\"\u001b[39m \u001b[38;5;129;01min\u001b[39;00m inspect\u001b[38;5;241m.\u001b[39msignature(\u001b[38;5;28mself\u001b[39m\u001b[38;5;241m.\u001b[39mBUILDER_CONFIG_CLASS\u001b[38;5;241m.\u001b[39m\u001b[38;5;21m__init__\u001b[39m)\u001b[38;5;241m.\u001b[39mparameters \u001b[38;5;129;01mand\u001b[39;00m features \u001b[38;5;129;01mis\u001b[39;00m \u001b[38;5;129;01mnot\u001b[39;00m \u001b[38;5;28;01mNone\u001b[39;00m:\n",
      "File \u001b[0;32m~/.local/lib/python3.10/site-packages/datasets/data_files.py:792\u001b[0m, in \u001b[0;36mDataFilesDict.from_local_or_remote\u001b[0;34m(cls, patterns, base_path, allowed_extensions, use_auth_token)\u001b[0m\n\u001b[1;32m    789\u001b[0m out \u001b[38;5;241m=\u001b[39m \u001b[38;5;28mcls\u001b[39m()\n\u001b[1;32m    790\u001b[0m \u001b[38;5;28;01mfor\u001b[39;00m key, patterns_for_key \u001b[38;5;129;01min\u001b[39;00m patterns\u001b[38;5;241m.\u001b[39mitems():\n\u001b[1;32m    791\u001b[0m     out[key] \u001b[38;5;241m=\u001b[39m (\n\u001b[0;32m--> 792\u001b[0m         \u001b[43mDataFilesList\u001b[49m\u001b[38;5;241;43m.\u001b[39;49m\u001b[43mfrom_local_or_remote\u001b[49m\u001b[43m(\u001b[49m\n\u001b[1;32m    793\u001b[0m \u001b[43m            \u001b[49m\u001b[43mpatterns_for_key\u001b[49m\u001b[43m,\u001b[49m\n\u001b[1;32m    794\u001b[0m \u001b[43m            \u001b[49m\u001b[43mbase_path\u001b[49m\u001b[38;5;241;43m=\u001b[39;49m\u001b[43mbase_path\u001b[49m\u001b[43m,\u001b[49m\n\u001b[1;32m    795\u001b[0m \u001b[43m            \u001b[49m\u001b[43mallowed_extensions\u001b[49m\u001b[38;5;241;43m=\u001b[39;49m\u001b[43mallowed_extensions\u001b[49m\u001b[43m,\u001b[49m\n\u001b[1;32m    796\u001b[0m \u001b[43m            \u001b[49m\u001b[43muse_auth_token\u001b[49m\u001b[38;5;241;43m=\u001b[39;49m\u001b[43muse_auth_token\u001b[49m\u001b[43m,\u001b[49m\n\u001b[1;32m    797\u001b[0m \u001b[43m        \u001b[49m\u001b[43m)\u001b[49m\n\u001b[1;32m    798\u001b[0m         \u001b[38;5;28;01mif\u001b[39;00m \u001b[38;5;129;01mnot\u001b[39;00m \u001b[38;5;28misinstance\u001b[39m(patterns_for_key, DataFilesList)\n\u001b[1;32m    799\u001b[0m         \u001b[38;5;28;01melse\u001b[39;00m patterns_for_key\n\u001b[1;32m    800\u001b[0m     )\n\u001b[1;32m    801\u001b[0m \u001b[38;5;28;01mreturn\u001b[39;00m out\n",
      "File \u001b[0;32m~/.local/lib/python3.10/site-packages/datasets/data_files.py:748\u001b[0m, in \u001b[0;36mDataFilesList.from_local_or_remote\u001b[0;34m(cls, patterns, base_path, allowed_extensions, use_auth_token)\u001b[0m\n\u001b[1;32m    739\u001b[0m \u001b[38;5;129m@classmethod\u001b[39m\n\u001b[1;32m    740\u001b[0m \u001b[38;5;28;01mdef\u001b[39;00m \u001b[38;5;21mfrom_local_or_remote\u001b[39m(\n\u001b[1;32m    741\u001b[0m     \u001b[38;5;28mcls\u001b[39m,\n\u001b[0;32m   (...)\u001b[0m\n\u001b[1;32m    745\u001b[0m     use_auth_token: Optional[Union[\u001b[38;5;28mbool\u001b[39m, \u001b[38;5;28mstr\u001b[39m]] \u001b[38;5;241m=\u001b[39m \u001b[38;5;28;01mNone\u001b[39;00m,\n\u001b[1;32m    746\u001b[0m ) \u001b[38;5;241m-\u001b[39m\u001b[38;5;241m>\u001b[39m \u001b[38;5;124m\"\u001b[39m\u001b[38;5;124mDataFilesList\u001b[39m\u001b[38;5;124m\"\u001b[39m:\n\u001b[1;32m    747\u001b[0m     base_path \u001b[38;5;241m=\u001b[39m base_path \u001b[38;5;28;01mif\u001b[39;00m base_path \u001b[38;5;129;01mis\u001b[39;00m \u001b[38;5;129;01mnot\u001b[39;00m \u001b[38;5;28;01mNone\u001b[39;00m \u001b[38;5;28;01melse\u001b[39;00m \u001b[38;5;28mstr\u001b[39m(Path()\u001b[38;5;241m.\u001b[39mresolve())\n\u001b[0;32m--> 748\u001b[0m     data_files \u001b[38;5;241m=\u001b[39m \u001b[43mresolve_patterns_locally_or_by_urls\u001b[49m\u001b[43m(\u001b[49m\u001b[43mbase_path\u001b[49m\u001b[43m,\u001b[49m\u001b[43m \u001b[49m\u001b[43mpatterns\u001b[49m\u001b[43m,\u001b[49m\u001b[43m \u001b[49m\u001b[43mallowed_extensions\u001b[49m\u001b[43m)\u001b[49m\n\u001b[1;32m    749\u001b[0m     origin_metadata \u001b[38;5;241m=\u001b[39m _get_origin_metadata_locally_or_by_urls(data_files, use_auth_token\u001b[38;5;241m=\u001b[39muse_auth_token)\n\u001b[1;32m    750\u001b[0m     \u001b[38;5;28;01mreturn\u001b[39;00m \u001b[38;5;28mcls\u001b[39m(data_files, origin_metadata)\n",
      "File \u001b[0;32m~/.local/lib/python3.10/site-packages/datasets/data_files.py:348\u001b[0m, in \u001b[0;36mresolve_patterns_locally_or_by_urls\u001b[0;34m(base_path, patterns, allowed_extensions)\u001b[0m\n\u001b[1;32m    346\u001b[0m         data_files\u001b[38;5;241m.\u001b[39mappend(Url(pattern))\n\u001b[1;32m    347\u001b[0m     \u001b[38;5;28;01melse\u001b[39;00m:\n\u001b[0;32m--> 348\u001b[0m         \u001b[38;5;28;01mfor\u001b[39;00m path \u001b[38;5;129;01min\u001b[39;00m \u001b[43m_resolve_single_pattern_locally\u001b[49m\u001b[43m(\u001b[49m\u001b[43mbase_path\u001b[49m\u001b[43m,\u001b[49m\u001b[43m \u001b[49m\u001b[43mpattern\u001b[49m\u001b[43m,\u001b[49m\u001b[43m \u001b[49m\u001b[43mallowed_extensions\u001b[49m\u001b[43m)\u001b[49m:\n\u001b[1;32m    349\u001b[0m             data_files\u001b[38;5;241m.\u001b[39mappend(path)\n\u001b[1;32m    351\u001b[0m \u001b[38;5;28;01mif\u001b[39;00m \u001b[38;5;129;01mnot\u001b[39;00m data_files:\n",
      "File \u001b[0;32m~/.local/lib/python3.10/site-packages/datasets/data_files.py:292\u001b[0m, in \u001b[0;36m_resolve_single_pattern_locally\u001b[0;34m(base_path, pattern, allowed_extensions)\u001b[0m\n\u001b[1;32m    290\u001b[0m     \u001b[38;5;28;01mif\u001b[39;00m allowed_extensions \u001b[38;5;129;01mis\u001b[39;00m \u001b[38;5;129;01mnot\u001b[39;00m \u001b[38;5;28;01mNone\u001b[39;00m:\n\u001b[1;32m    291\u001b[0m         error_msg \u001b[38;5;241m+\u001b[39m\u001b[38;5;241m=\u001b[39m \u001b[38;5;124mf\u001b[39m\u001b[38;5;124m\"\u001b[39m\u001b[38;5;124m with any supported extension \u001b[39m\u001b[38;5;132;01m{\u001b[39;00m\u001b[38;5;28mlist\u001b[39m(allowed_extensions)\u001b[38;5;132;01m}\u001b[39;00m\u001b[38;5;124m\"\u001b[39m\n\u001b[0;32m--> 292\u001b[0m     \u001b[38;5;28;01mraise\u001b[39;00m \u001b[38;5;167;01mFileNotFoundError\u001b[39;00m(error_msg)\n\u001b[1;32m    293\u001b[0m \u001b[38;5;28;01mreturn\u001b[39;00m \u001b[38;5;28msorted\u001b[39m(out)\n",
      "\u001b[0;31mFileNotFoundError\u001b[0m: Unable to find 'https://huggingface.co/datasets/cc100/resolve/main/uk.txt' at /home/goader/Desktop/agh/masters/ukr-lm/research/implementation/https:/huggingface.co/datasets/cc100/resolve/main"
     ]
    }
   ],
   "source": [
    "cc100 = load_dataset('cc100', lang='uk', data_files='uk.txt', cache_dir='/media/goader/masters/corpora/cc-100')"
   ]
  },
  {
   "cell_type": "code",
   "execution_count": 21,
   "metadata": {},
   "outputs": [
    {
     "name": "stdout",
     "output_type": "stream",
     "text": [
      "total 99G\r\n",
      "drwxrwxrwx 1 root root 4.0K Jul 23 19:44  .\r\n",
      "drwxrwxrwx 1 root root 4.0K Jul 23 18:39  ..\r\n",
      "drwxrwxrwx 1 root root    0 Jul 23 18:38  cc100\r\n",
      "-rwxrwxrwx 1 root root    0 Jul 23 19:44  cc-100_text_cc100-17f736933ba5d7d5_0.0.0_cb1e9bd71a82ad27976be3b12b407850fe2837d80c22c5e03a28949843a8ace2.lock\r\n",
      "-rwxrwxrwx 1 root root    0 Jul 23 19:44  cc-100_text_cc100-3ed5039ca85188cd_0.0.0_cb1e9bd71a82ad27976be3b12b407850fe2837d80c22c5e03a28949843a8ace2.lock\r\n",
      "-rwxrwxrwx 1 root root    0 Jul 23 19:21 '.._corpora_cc-100_cc100_uk-lang=uk_0.0.0_8159941b93eb06d0288bb80be26ddfe8213c0c5e33286619c85ad8e1ee0eb91c.lock'\r\n",
      "drwxrwxrwx 1 root root 4.0K Jul 23 19:44  downloads\r\n",
      "drwxrwxrwx 1 root root    0 Jul 23 19:44  text\r\n",
      "drwxrwxrwx 1 root root    0 Jul 23 18:40 'uk-lang=uk'\r\n",
      "-rwxrwxrwx 1 root root 2.2M Jul 23 18:02  uk-sample.txt\r\n",
      "-rwxrwxrwx 1 root root  85G Jul 16 22:05  uk.txt\r\n",
      "-rwxrwxrwx 1 root root  14G Mar 25 04:46  uk.txt.xz\r\n"
     ]
    }
   ],
   "source": [
    "!ls ../corpora/cc-100/ -lah"
   ]
  },
  {
   "cell_type": "code",
   "execution_count": 36,
   "metadata": {},
   "outputs": [
    {
     "name": "stdout",
     "output_type": "stream",
     "text": [
      "total 86G\r\n",
      "drwxrwxrwx 1 root root  64K Jul 23 20:26 .\r\n",
      "drwxrwxrwx 1 root root 4.0K Jul 23 20:26 ..\r\n",
      "-rwxrwxrwx 1 root root 2.2K Jul 23 20:26 dataset_info.json\r\n",
      "-rwxrwxrwx 1 root root 495M Jul 23 19:44 text-train-00000-of-00178.arrow\r\n",
      "-rwxrwxrwx 1 root root 495M Jul 23 19:44 text-train-00001-of-00178.arrow\r\n",
      "-rwxrwxrwx 1 root root 495M Jul 23 19:44 text-train-00002-of-00178.arrow\r\n",
      "-rwxrwxrwx 1 root root 495M Jul 23 19:45 text-train-00003-of-00178.arrow\r\n",
      "-rwxrwxrwx 1 root root 494M Jul 23 19:45 text-train-00004-of-00178.arrow\r\n",
      "-rwxrwxrwx 1 root root 495M Jul 23 19:45 text-train-00005-of-00178.arrow\r\n",
      "-rwxrwxrwx 1 root root 495M Jul 23 19:45 text-train-00006-of-00178.arrow\r\n",
      "-rwxrwxrwx 1 root root 495M Jul 23 19:45 text-train-00007-of-00178.arrow\r\n",
      "-rwxrwxrwx 1 root root 495M Jul 23 19:46 text-train-00008-of-00178.arrow\r\n",
      "-rwxrwxrwx 1 root root 495M Jul 23 19:46 text-train-00009-of-00178.arrow\r\n",
      "-rwxrwxrwx 1 root root 495M Jul 23 19:46 text-train-00010-of-00178.arrow\r\n",
      "-rwxrwxrwx 1 root root 495M Jul 23 19:46 text-train-00011-of-00178.arrow\r\n",
      "-rwxrwxrwx 1 root root 495M Jul 23 19:46 text-train-00012-of-00178.arrow\r\n",
      "-rwxrwxrwx 1 root root 495M Jul 23 19:47 text-train-00013-of-00178.arrow\r\n",
      "-rwxrwxrwx 1 root root 495M Jul 23 19:47 text-train-00014-of-00178.arrow\r\n",
      "-rwxrwxrwx 1 root root 495M Jul 23 19:47 text-train-00015-of-00178.arrow\r\n",
      "-rwxrwxrwx 1 root root 495M Jul 23 19:47 text-train-00016-of-00178.arrow\r\n",
      "-rwxrwxrwx 1 root root 495M Jul 23 19:47 text-train-00017-of-00178.arrow\r\n",
      "-rwxrwxrwx 1 root root 495M Jul 23 19:48 text-train-00018-of-00178.arrow\r\n",
      "-rwxrwxrwx 1 root root 495M Jul 23 19:48 text-train-00019-of-00178.arrow\r\n",
      "-rwxrwxrwx 1 root root 495M Jul 23 19:48 text-train-00020-of-00178.arrow\r\n",
      "-rwxrwxrwx 1 root root 495M Jul 23 19:48 text-train-00021-of-00178.arrow\r\n",
      "-rwxrwxrwx 1 root root 495M Jul 23 19:48 text-train-00022-of-00178.arrow\r\n",
      "-rwxrwxrwx 1 root root 495M Jul 23 19:49 text-train-00023-of-00178.arrow\r\n",
      "-rwxrwxrwx 1 root root 495M Jul 23 19:49 text-train-00024-of-00178.arrow\r\n",
      "-rwxrwxrwx 1 root root 495M Jul 23 19:49 text-train-00025-of-00178.arrow\r\n",
      "-rwxrwxrwx 1 root root 495M Jul 23 19:49 text-train-00026-of-00178.arrow\r\n",
      "-rwxrwxrwx 1 root root 495M Jul 23 19:50 text-train-00027-of-00178.arrow\r\n",
      "-rwxrwxrwx 1 root root 495M Jul 23 19:50 text-train-00028-of-00178.arrow\r\n",
      "-rwxrwxrwx 1 root root 495M Jul 23 19:50 text-train-00029-of-00178.arrow\r\n",
      "-rwxrwxrwx 1 root root 495M Jul 23 19:50 text-train-00030-of-00178.arrow\r\n",
      "-rwxrwxrwx 1 root root 495M Jul 23 19:50 text-train-00031-of-00178.arrow\r\n",
      "-rwxrwxrwx 1 root root 495M Jul 23 19:51 text-train-00032-of-00178.arrow\r\n",
      "-rwxrwxrwx 1 root root 495M Jul 23 19:51 text-train-00033-of-00178.arrow\r\n",
      "-rwxrwxrwx 1 root root 495M Jul 23 19:51 text-train-00034-of-00178.arrow\r\n",
      "-rwxrwxrwx 1 root root 495M Jul 23 19:51 text-train-00035-of-00178.arrow\r\n",
      "-rwxrwxrwx 1 root root 495M Jul 23 19:51 text-train-00036-of-00178.arrow\r\n",
      "-rwxrwxrwx 1 root root 495M Jul 23 19:52 text-train-00037-of-00178.arrow\r\n",
      "-rwxrwxrwx 1 root root 495M Jul 23 19:52 text-train-00038-of-00178.arrow\r\n",
      "-rwxrwxrwx 1 root root 495M Jul 23 19:52 text-train-00039-of-00178.arrow\r\n",
      "-rwxrwxrwx 1 root root 495M Jul 23 19:52 text-train-00040-of-00178.arrow\r\n",
      "-rwxrwxrwx 1 root root 495M Jul 23 19:53 text-train-00041-of-00178.arrow\r\n",
      "-rwxrwxrwx 1 root root 495M Jul 23 19:53 text-train-00042-of-00178.arrow\r\n",
      "-rwxrwxrwx 1 root root 495M Jul 23 19:53 text-train-00043-of-00178.arrow\r\n",
      "-rwxrwxrwx 1 root root 495M Jul 23 19:53 text-train-00044-of-00178.arrow\r\n",
      "-rwxrwxrwx 1 root root 495M Jul 23 19:53 text-train-00045-of-00178.arrow\r\n",
      "-rwxrwxrwx 1 root root 495M Jul 23 19:54 text-train-00046-of-00178.arrow\r\n",
      "-rwxrwxrwx 1 root root 495M Jul 23 19:54 text-train-00047-of-00178.arrow\r\n",
      "-rwxrwxrwx 1 root root 495M Jul 23 19:54 text-train-00048-of-00178.arrow\r\n",
      "-rwxrwxrwx 1 root root 495M Jul 23 19:54 text-train-00049-of-00178.arrow\r\n",
      "-rwxrwxrwx 1 root root 495M Jul 23 19:54 text-train-00050-of-00178.arrow\r\n",
      "-rwxrwxrwx 1 root root 495M Jul 23 19:55 text-train-00051-of-00178.arrow\r\n",
      "-rwxrwxrwx 1 root root 495M Jul 23 19:55 text-train-00052-of-00178.arrow\r\n",
      "-rwxrwxrwx 1 root root 495M Jul 23 19:55 text-train-00053-of-00178.arrow\r\n",
      "-rwxrwxrwx 1 root root 494M Jul 23 19:56 text-train-00054-of-00178.arrow\r\n",
      "-rwxrwxrwx 1 root root 495M Jul 23 19:56 text-train-00055-of-00178.arrow\r\n",
      "-rwxrwxrwx 1 root root 495M Jul 23 19:56 text-train-00056-of-00178.arrow\r\n",
      "-rwxrwxrwx 1 root root 495M Jul 23 19:56 text-train-00057-of-00178.arrow\r\n",
      "-rwxrwxrwx 1 root root 495M Jul 23 19:56 text-train-00058-of-00178.arrow\r\n",
      "-rwxrwxrwx 1 root root 495M Jul 23 19:57 text-train-00059-of-00178.arrow\r\n",
      "-rwxrwxrwx 1 root root 495M Jul 23 19:57 text-train-00060-of-00178.arrow\r\n",
      "-rwxrwxrwx 1 root root 495M Jul 23 19:57 text-train-00061-of-00178.arrow\r\n",
      "-rwxrwxrwx 1 root root 495M Jul 23 19:57 text-train-00062-of-00178.arrow\r\n",
      "-rwxrwxrwx 1 root root 495M Jul 23 19:58 text-train-00063-of-00178.arrow\r\n",
      "-rwxrwxrwx 1 root root 495M Jul 23 19:58 text-train-00064-of-00178.arrow\r\n",
      "-rwxrwxrwx 1 root root 495M Jul 23 19:58 text-train-00065-of-00178.arrow\r\n",
      "-rwxrwxrwx 1 root root 495M Jul 23 19:58 text-train-00066-of-00178.arrow\r\n",
      "-rwxrwxrwx 1 root root 495M Jul 23 19:58 text-train-00067-of-00178.arrow\r\n",
      "-rwxrwxrwx 1 root root 495M Jul 23 19:59 text-train-00068-of-00178.arrow\r\n",
      "-rwxrwxrwx 1 root root 495M Jul 23 19:59 text-train-00069-of-00178.arrow\r\n",
      "-rwxrwxrwx 1 root root 495M Jul 23 19:59 text-train-00070-of-00178.arrow\r\n",
      "-rwxrwxrwx 1 root root 495M Jul 23 19:59 text-train-00071-of-00178.arrow\r\n",
      "-rwxrwxrwx 1 root root 495M Jul 23 20:00 text-train-00072-of-00178.arrow\r\n",
      "-rwxrwxrwx 1 root root 495M Jul 23 20:00 text-train-00073-of-00178.arrow\r\n",
      "-rwxrwxrwx 1 root root 495M Jul 23 20:00 text-train-00074-of-00178.arrow\r\n",
      "-rwxrwxrwx 1 root root 495M Jul 23 20:01 text-train-00075-of-00178.arrow\r\n",
      "-rwxrwxrwx 1 root root 495M Jul 23 20:01 text-train-00076-of-00178.arrow\r\n",
      "-rwxrwxrwx 1 root root 495M Jul 23 20:01 text-train-00077-of-00178.arrow\r\n",
      "-rwxrwxrwx 1 root root 495M Jul 23 20:01 text-train-00078-of-00178.arrow\r\n",
      "-rwxrwxrwx 1 root root 495M Jul 23 20:01 text-train-00079-of-00178.arrow\r\n",
      "-rwxrwxrwx 1 root root 495M Jul 23 20:02 text-train-00080-of-00178.arrow\r\n",
      "-rwxrwxrwx 1 root root 495M Jul 23 20:02 text-train-00081-of-00178.arrow\r\n",
      "-rwxrwxrwx 1 root root 495M Jul 23 20:02 text-train-00082-of-00178.arrow\r\n",
      "-rwxrwxrwx 1 root root 495M Jul 23 20:02 text-train-00083-of-00178.arrow\r\n",
      "-rwxrwxrwx 1 root root 495M Jul 23 20:03 text-train-00084-of-00178.arrow\r\n",
      "-rwxrwxrwx 1 root root 495M Jul 23 20:03 text-train-00085-of-00178.arrow\r\n",
      "-rwxrwxrwx 1 root root 495M Jul 23 20:03 text-train-00086-of-00178.arrow\r\n",
      "-rwxrwxrwx 1 root root 495M Jul 23 20:03 text-train-00087-of-00178.arrow\r\n",
      "-rwxrwxrwx 1 root root 495M Jul 23 20:03 text-train-00088-of-00178.arrow\r\n",
      "-rwxrwxrwx 1 root root 495M Jul 23 20:04 text-train-00089-of-00178.arrow\r\n",
      "-rwxrwxrwx 1 root root 495M Jul 23 20:04 text-train-00090-of-00178.arrow\r\n",
      "-rwxrwxrwx 1 root root 495M Jul 23 20:04 text-train-00091-of-00178.arrow\r\n",
      "-rwxrwxrwx 1 root root 495M Jul 23 20:05 text-train-00092-of-00178.arrow\r\n",
      "-rwxrwxrwx 1 root root 495M Jul 23 20:05 text-train-00093-of-00178.arrow\r\n",
      "-rwxrwxrwx 1 root root 495M Jul 23 20:05 text-train-00094-of-00178.arrow\r\n",
      "-rwxrwxrwx 1 root root 495M Jul 23 20:05 text-train-00095-of-00178.arrow\r\n",
      "-rwxrwxrwx 1 root root 495M Jul 23 20:06 text-train-00096-of-00178.arrow\r\n",
      "-rwxrwxrwx 1 root root 495M Jul 23 20:06 text-train-00097-of-00178.arrow\r\n",
      "-rwxrwxrwx 1 root root 495M Jul 23 20:06 text-train-00098-of-00178.arrow\r\n",
      "-rwxrwxrwx 1 root root 495M Jul 23 20:06 text-train-00099-of-00178.arrow\r\n",
      "-rwxrwxrwx 1 root root 495M Jul 23 20:07 text-train-00100-of-00178.arrow\r\n",
      "-rwxrwxrwx 1 root root 495M Jul 23 20:07 text-train-00101-of-00178.arrow\r\n",
      "-rwxrwxrwx 1 root root 495M Jul 23 20:07 text-train-00102-of-00178.arrow\r\n",
      "-rwxrwxrwx 1 root root 495M Jul 23 20:07 text-train-00103-of-00178.arrow\r\n",
      "-rwxrwxrwx 1 root root 495M Jul 23 20:07 text-train-00104-of-00178.arrow\r\n",
      "-rwxrwxrwx 1 root root 495M Jul 23 20:08 text-train-00105-of-00178.arrow\r\n",
      "-rwxrwxrwx 1 root root 495M Jul 23 20:08 text-train-00106-of-00178.arrow\r\n",
      "-rwxrwxrwx 1 root root 495M Jul 23 20:08 text-train-00107-of-00178.arrow\r\n",
      "-rwxrwxrwx 1 root root 495M Jul 23 20:08 text-train-00108-of-00178.arrow\r\n",
      "-rwxrwxrwx 1 root root 495M Jul 23 20:09 text-train-00109-of-00178.arrow\r\n",
      "-rwxrwxrwx 1 root root 495M Jul 23 20:09 text-train-00110-of-00178.arrow\r\n",
      "-rwxrwxrwx 1 root root 495M Jul 23 20:09 text-train-00111-of-00178.arrow\r\n",
      "-rwxrwxrwx 1 root root 495M Jul 23 20:09 text-train-00112-of-00178.arrow\r\n",
      "-rwxrwxrwx 1 root root 495M Jul 23 20:10 text-train-00113-of-00178.arrow\r\n",
      "-rwxrwxrwx 1 root root 495M Jul 23 20:10 text-train-00114-of-00178.arrow\r\n",
      "-rwxrwxrwx 1 root root 495M Jul 23 20:10 text-train-00115-of-00178.arrow\r\n",
      "-rwxrwxrwx 1 root root 495M Jul 23 20:10 text-train-00116-of-00178.arrow\r\n",
      "-rwxrwxrwx 1 root root 495M Jul 23 20:11 text-train-00117-of-00178.arrow\r\n",
      "-rwxrwxrwx 1 root root 495M Jul 23 20:11 text-train-00118-of-00178.arrow\r\n",
      "-rwxrwxrwx 1 root root 495M Jul 23 20:11 text-train-00119-of-00178.arrow\r\n",
      "-rwxrwxrwx 1 root root 495M Jul 23 20:11 text-train-00120-of-00178.arrow\r\n",
      "-rwxrwxrwx 1 root root 495M Jul 23 20:12 text-train-00121-of-00178.arrow\r\n",
      "-rwxrwxrwx 1 root root 495M Jul 23 20:12 text-train-00122-of-00178.arrow\r\n",
      "-rwxrwxrwx 1 root root 495M Jul 23 20:12 text-train-00123-of-00178.arrow\r\n",
      "-rwxrwxrwx 1 root root 495M Jul 23 20:12 text-train-00124-of-00178.arrow\r\n",
      "-rwxrwxrwx 1 root root 495M Jul 23 20:13 text-train-00125-of-00178.arrow\r\n",
      "-rwxrwxrwx 1 root root 495M Jul 23 20:13 text-train-00126-of-00178.arrow\r\n",
      "-rwxrwxrwx 1 root root 495M Jul 23 20:13 text-train-00127-of-00178.arrow\r\n",
      "-rwxrwxrwx 1 root root 495M Jul 23 20:13 text-train-00128-of-00178.arrow\r\n",
      "-rwxrwxrwx 1 root root 495M Jul 23 20:13 text-train-00129-of-00178.arrow\r\n",
      "-rwxrwxrwx 1 root root 495M Jul 23 20:14 text-train-00130-of-00178.arrow\r\n",
      "-rwxrwxrwx 1 root root 495M Jul 23 20:14 text-train-00131-of-00178.arrow\r\n",
      "-rwxrwxrwx 1 root root 494M Jul 23 20:14 text-train-00132-of-00178.arrow\r\n",
      "-rwxrwxrwx 1 root root 495M Jul 23 20:14 text-train-00133-of-00178.arrow\r\n",
      "-rwxrwxrwx 1 root root 495M Jul 23 20:15 text-train-00134-of-00178.arrow\r\n",
      "-rwxrwxrwx 1 root root 495M Jul 23 20:15 text-train-00135-of-00178.arrow\r\n",
      "-rwxrwxrwx 1 root root 495M Jul 23 20:15 text-train-00136-of-00178.arrow\r\n",
      "-rwxrwxrwx 1 root root 494M Jul 23 20:15 text-train-00137-of-00178.arrow\r\n",
      "-rwxrwxrwx 1 root root 494M Jul 23 20:16 text-train-00138-of-00178.arrow\r\n",
      "-rwxrwxrwx 1 root root 494M Jul 23 20:16 text-train-00139-of-00178.arrow\r\n",
      "-rwxrwxrwx 1 root root 494M Jul 23 20:16 text-train-00140-of-00178.arrow\r\n",
      "-rwxrwxrwx 1 root root 495M Jul 23 20:17 text-train-00141-of-00178.arrow\r\n",
      "-rwxrwxrwx 1 root root 495M Jul 23 20:17 text-train-00142-of-00178.arrow\r\n",
      "-rwxrwxrwx 1 root root 495M Jul 23 20:17 text-train-00143-of-00178.arrow\r\n",
      "-rwxrwxrwx 1 root root 494M Jul 23 20:17 text-train-00144-of-00178.arrow\r\n",
      "-rwxrwxrwx 1 root root 494M Jul 23 20:18 text-train-00145-of-00178.arrow\r\n",
      "-rwxrwxrwx 1 root root 494M Jul 23 20:18 text-train-00146-of-00178.arrow\r\n",
      "-rwxrwxrwx 1 root root 494M Jul 23 20:18 text-train-00147-of-00178.arrow\r\n",
      "-rwxrwxrwx 1 root root 494M Jul 23 20:18 text-train-00148-of-00178.arrow\r\n",
      "-rwxrwxrwx 1 root root 494M Jul 23 20:18 text-train-00149-of-00178.arrow\r\n",
      "-rwxrwxrwx 1 root root 494M Jul 23 20:19 text-train-00150-of-00178.arrow\r\n",
      "-rwxrwxrwx 1 root root 494M Jul 23 20:19 text-train-00151-of-00178.arrow\r\n",
      "-rwxrwxrwx 1 root root 494M Jul 23 20:19 text-train-00152-of-00178.arrow\r\n",
      "-rwxrwxrwx 1 root root 494M Jul 23 20:19 text-train-00153-of-00178.arrow\r\n",
      "-rwxrwxrwx 1 root root 494M Jul 23 20:20 text-train-00154-of-00178.arrow\r\n",
      "-rwxrwxrwx 1 root root 494M Jul 23 20:20 text-train-00155-of-00178.arrow\r\n",
      "-rwxrwxrwx 1 root root 494M Jul 23 20:20 text-train-00156-of-00178.arrow\r\n",
      "-rwxrwxrwx 1 root root 494M Jul 23 20:20 text-train-00157-of-00178.arrow\r\n",
      "-rwxrwxrwx 1 root root 494M Jul 23 20:21 text-train-00158-of-00178.arrow\r\n",
      "-rwxrwxrwx 1 root root 494M Jul 23 20:21 text-train-00159-of-00178.arrow\r\n",
      "-rwxrwxrwx 1 root root 494M Jul 23 20:21 text-train-00160-of-00178.arrow\r\n",
      "-rwxrwxrwx 1 root root 494M Jul 23 20:22 text-train-00161-of-00178.arrow\r\n",
      "-rwxrwxrwx 1 root root 494M Jul 23 20:22 text-train-00162-of-00178.arrow\r\n",
      "-rwxrwxrwx 1 root root 494M Jul 23 20:22 text-train-00163-of-00178.arrow\r\n",
      "-rwxrwxrwx 1 root root 494M Jul 23 20:22 text-train-00164-of-00178.arrow\r\n",
      "-rwxrwxrwx 1 root root 494M Jul 23 20:23 text-train-00165-of-00178.arrow\r\n",
      "-rwxrwxrwx 1 root root 494M Jul 23 20:23 text-train-00166-of-00178.arrow\r\n",
      "-rwxrwxrwx 1 root root 494M Jul 23 20:23 text-train-00167-of-00178.arrow\r\n",
      "-rwxrwxrwx 1 root root 494M Jul 23 20:23 text-train-00168-of-00178.arrow\r\n",
      "-rwxrwxrwx 1 root root 493M Jul 23 20:24 text-train-00169-of-00178.arrow\r\n",
      "-rwxrwxrwx 1 root root 493M Jul 23 20:24 text-train-00170-of-00178.arrow\r\n",
      "-rwxrwxrwx 1 root root 493M Jul 23 20:24 text-train-00171-of-00178.arrow\r\n",
      "-rwxrwxrwx 1 root root 493M Jul 23 20:24 text-train-00172-of-00178.arrow\r\n",
      "-rwxrwxrwx 1 root root 493M Jul 23 20:25 text-train-00173-of-00178.arrow\r\n",
      "-rwxrwxrwx 1 root root 493M Jul 23 20:25 text-train-00174-of-00178.arrow\r\n",
      "-rwxrwxrwx 1 root root 492M Jul 23 20:25 text-train-00175-of-00178.arrow\r\n",
      "-rwxrwxrwx 1 root root 492M Jul 23 20:25 text-train-00176-of-00178.arrow\r\n",
      "-rwxrwxrwx 1 root root 305M Jul 23 20:26 text-train-00177-of-00178.arrow\r\n"
     ]
    }
   ],
   "source": [
    "!ls ../corpora/cc-100/text/cc100-3ed5039ca85188cd/0.0.0/cb1e9bd71a82ad27976be3b12b407850fe2837d80c22c5e03a28949843a8ace2/ -lah"
   ]
  },
  {
   "cell_type": "code",
   "execution_count": 23,
   "metadata": {},
   "outputs": [],
   "source": [
    "import datasets"
   ]
  },
  {
   "cell_type": "code",
   "execution_count": 25,
   "metadata": {},
   "outputs": [
    {
     "data": {
      "text/plain": [
       "'2.13.1'"
      ]
     },
     "execution_count": 25,
     "metadata": {},
     "output_type": "execute_result"
    }
   ],
   "source": [
    "datasets.__version__"
   ]
  },
  {
   "cell_type": "code",
   "execution_count": null,
   "metadata": {},
   "outputs": [],
   "source": []
  },
  {
   "cell_type": "code",
   "execution_count": null,
   "metadata": {},
   "outputs": [],
   "source": []
  }
 ],
 "metadata": {
  "kernelspec": {
   "display_name": "main",
   "language": "python",
   "name": "main"
  },
  "language_info": {
   "codemirror_mode": {
    "name": "ipython",
    "version": 3
   },
   "file_extension": ".py",
   "mimetype": "text/x-python",
   "name": "python",
   "nbconvert_exporter": "python",
   "pygments_lexer": "ipython3",
   "version": "3.10.6"
  }
 },
 "nbformat": 4,
 "nbformat_minor": 1
}
